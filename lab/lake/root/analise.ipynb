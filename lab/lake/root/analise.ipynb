{
 "cells": [
  {
   "cell_type": "code",
   "execution_count": 10,
   "id": "b82142c9-78d3-432d-b4d0-2da82dfaf525",
   "metadata": {},
   "outputs": [],
   "source": [
    "import findspark, datetime, pytz\n",
    "from pyspark.sql import SparkSession\n",
    "from pyspark.sql.window import Window\n",
    "from pyspark.sql import functions as F\n",
    "\n",
    "findspark.add_packages('mysql:mysql-connector-java:8.0.11')"
   ]
  },
  {
   "cell_type": "code",
   "execution_count": 2,
   "id": "9ed237a8-5aee-42b6-b205-cadd1b81d998",
   "metadata": {},
   "outputs": [
    {
     "name": "stderr",
     "output_type": "stream",
     "text": [
      "Warning: Ignoring non-Spark config property: packages\n",
      "24/06/08 23:47:51 WARN Utils: Your hostname, cj resolves to a loopback address: 127.0.1.1; using 192.168.15.34 instead (on interface enp2s0)\n",
      "24/06/08 23:47:51 WARN Utils: Set SPARK_LOCAL_IP if you need to bind to another address\n"
     ]
    },
    {
     "name": "stdout",
     "output_type": "stream",
     "text": [
      ":: loading settings :: url = jar:file:/opt/spark/jars/ivy-2.5.1.jar!/org/apache/ivy/core/settings/ivysettings.xml\n"
     ]
    },
    {
     "name": "stderr",
     "output_type": "stream",
     "text": [
      "Ivy Default Cache set to: /home/cj/.ivy2/cache\n",
      "The jars for the packages stored in: /home/cj/.ivy2/jars\n",
      "mysql#mysql-connector-java added as a dependency\n",
      ":: resolving dependencies :: org.apache.spark#spark-submit-parent-84830ee2-7a4c-491e-8dc2-72fdf769294a;1.0\n",
      "\tconfs: [default]\n",
      "\tfound mysql#mysql-connector-java;8.0.11 in central\n",
      "\tfound com.google.protobuf#protobuf-java;2.6.0 in central\n",
      ":: resolution report :: resolve 124ms :: artifacts dl 6ms\n",
      "\t:: modules in use:\n",
      "\tcom.google.protobuf#protobuf-java;2.6.0 from central in [default]\n",
      "\tmysql#mysql-connector-java;8.0.11 from central in [default]\n",
      "\t---------------------------------------------------------------------\n",
      "\t|                  |            modules            ||   artifacts   |\n",
      "\t|       conf       | number| search|dwnlded|evicted|| number|dwnlded|\n",
      "\t---------------------------------------------------------------------\n",
      "\t|      default     |   2   |   0   |   0   |   0   ||   2   |   0   |\n",
      "\t---------------------------------------------------------------------\n",
      ":: retrieving :: org.apache.spark#spark-submit-parent-84830ee2-7a4c-491e-8dc2-72fdf769294a\n",
      "\tconfs: [default]\n",
      "\t0 artifacts copied, 2 already retrieved (0kB/7ms)\n",
      "24/06/08 23:47:51 WARN NativeCodeLoader: Unable to load native-hadoop library for your platform... using builtin-java classes where applicable\n",
      "Setting default log level to \"WARN\".\n",
      "To adjust logging level use sc.setLogLevel(newLevel). For SparkR, use setLogLevel(newLevel).\n",
      "24/06/08 23:47:52 WARN Utils: Service 'SparkUI' could not bind on port 4040. Attempting port 4041.\n",
      "24/06/08 23:47:52 WARN Utils: Service 'SparkUI' could not bind on port 4041. Attempting port 4042.\n"
     ]
    }
   ],
   "source": [
    "# Create SparkSession\n",
    "spark = (SparkSession.builder\n",
    "           .appName('SparkByExamples.com')\n",
    "           .config(\"packages\", \"org.apache.spark:mysql-connector-java-8.0.13.jar\")\n",
    "           .getOrCreate()\n",
    "        )"
   ]
  },
  {
   "cell_type": "code",
   "execution_count": 28,
   "id": "e1eaf47c-2bb0-4b2f-b704-76d7584edd3a",
   "metadata": {},
   "outputs": [],
   "source": [
    "# Read from MySQL Table\n",
    "VendasDF = (spark.read\n",
    "        .format(\"jdbc\")\n",
    "        .option(\"driver\",\"com.mysql.cj.jdbc.Driver\")\n",
    "        .option(\"url\", \"jdbc:mysql://localhost:3306/vendas?allowPublicKeyRetrieval=true&useSSL=false\")\n",
    "        .option(\"dbtable\", 'vendas')\n",
    "        .option(\"user\", \"big_data_importer\")\n",
    "        .option(\"password\", \"big_data_importer\")\n",
    "        .load()\n",
    "     )\n",
    "ItensVendaDF = (spark.read\n",
    "        .format(\"jdbc\")\n",
    "        .option(\"driver\",\"com.mysql.cj.jdbc.Driver\")\n",
    "        .option(\"url\", \"jdbc:mysql://localhost:3306/vendas?allowPublicKeyRetrieval=true&useSSL=false\")\n",
    "        .option(\"dbtable\", 'itens_venda')\n",
    "        .option(\"user\", \"big_data_importer\")\n",
    "        .option(\"password\", \"big_data_importer\")\n",
    "        .load()\n",
    "     )\n",
    "VendedoresDF = (spark.read\n",
    "        .format(\"jdbc\")\n",
    "        .option(\"driver\",\"com.mysql.cj.jdbc.Driver\")\n",
    "        .option(\"url\", \"jdbc:mysql://localhost:3306/vendas?allowPublicKeyRetrieval=true&useSSL=false\")\n",
    "        .option(\"dbtable\", 'vendedores')\n",
    "        .option(\"user\", \"big_data_importer\")\n",
    "        .option(\"password\", \"big_data_importer\")\n",
    "        .load()\n",
    "     )\n",
    "ClientesDF = (spark.read\n",
    "        .format(\"jdbc\")\n",
    "        .option(\"driver\",\"com.mysql.cj.jdbc.Driver\")\n",
    "        .option(\"url\", \"jdbc:mysql://localhost:3306/vendas?allowPublicKeyRetrieval=true&useSSL=false\")\n",
    "        .option(\"dbtable\", 'clientes')\n",
    "        .option(\"user\", \"big_data_importer\")\n",
    "        .option(\"password\", \"big_data_importer\")\n",
    "        .load()\n",
    "     )"
   ]
  },
  {
   "cell_type": "code",
   "execution_count": 35,
   "id": "a538d558-53e4-4b10-afe5-955877de3462",
   "metadata": {},
   "outputs": [
    {
     "name": "stdout",
     "output_type": "stream",
     "text": [
      "+--------+-----------+----------+----------+--------+\n",
      "|id_venda|id_vendedor|id_cliente|      data|   total|\n",
      "+--------+-----------+----------+----------+--------+\n",
      "|       3|          1|       300|2015-12-31| 8053.60|\n",
      "|       4|          1|       300|2015-12-31| 8053.60|\n",
      "|       6|          8|       500|2024-04-04|20685.00|\n",
      "|       7|         26|       669|2024-04-04|25530.00|\n",
      "|       8|         30|       480|2024-04-04|15316.00|\n",
      "|       9|         12|       482|2024-04-04|29785.00|\n",
      "|      11|          6|       284|2024-04-04| 2966.00|\n",
      "|      12|         19|       678|2024-04-04| 1240.00|\n",
      "|      13|          3|       335|2024-04-04|  675.00|\n",
      "|      14|         33|       651|2024-04-04|  775.00|\n",
      "|     918|         27|       253|2024-04-04|  620.00|\n",
      "+--------+-----------+----------+----------+--------+\n",
      "\n"
     ]
    }
   ],
   "source": [
    "idVendas = [3,4,6,7,8,9,11,12,13,14,918]\n",
    "VendasDF.filter(F.col('id_venda').isin(idVendas)).show()"
   ]
  },
  {
   "cell_type": "code",
   "execution_count": 36,
   "id": "cfa1cba2-6ce9-4a32-875b-1983ee3eae3f",
   "metadata": {},
   "outputs": [
    {
     "name": "stdout",
     "output_type": "stream",
     "text": [
      "+----------+--------+----------+--------------+-----------+--------+\n",
      "|id_produto|id_venda|quantidade|valor_unitario|valor_total|desconto|\n",
      "+----------+--------+----------+--------------+-----------+--------+\n",
      "+----------+--------+----------+--------------+-----------+--------+\n",
      "\n"
     ]
    }
   ],
   "source": [
    "idVendas = [3,4,6,7,8,9,11,12,13,14,918]\n",
    "ItensVendaDF.filter(F.col('id_venda').isin(918)).show()"
   ]
  },
  {
   "cell_type": "code",
   "execution_count": 25,
   "id": "eafc300b-55b7-467e-b423-80280cc885ee",
   "metadata": {},
   "outputs": [
    {
     "name": "stdout",
     "output_type": "stream",
     "text": [
      "+-----------+--------------+---------------+--------------------+-------------+--------------------+\n",
      "|id_vendedor|           cpf|       telefone|               email|origem_racial|                nome|\n",
      "+-----------+--------------+---------------+--------------------+-------------+--------------------+\n",
      "|          1|523.120.480-35|(88) 90334-0392|armando_lago@loja...|       branca|        Armando Lago|\n",
      "|          3|017.474.393-98|(31) 93436-6016|daniel_piraja@loj...|        preta|       Daniel Pirajá|\n",
      "|          6|416.552.263-55|(22) 93277-8907|ibere_lacerda@loj...|     indígena|       Iberê Lacerda|\n",
      "|          8|981.475.880-97|(18) 90653-1009|napoleao_mendez@l...|     indígena|     Napoleão Méndez|\n",
      "|         12|404.314.222-65|(94) 94677-8772|capitolino_bahia@...|      amarela|    Capitolino Bahía|\n",
      "|         19|075.959.284-51|(19) 96086-8436|simao_rivero@loja...|        preta|        Simão Rivero|\n",
      "|         26|902.331.481-67|(37) 99504-7180|kevin_santiago@lo...|        preta|Kevin Delatorre d...|\n",
      "|         30|422.539.945-10|(38) 97154-3186|aline_cordeiro@lo...|        preta|Aline Gabrielle d...|\n",
      "|         33|947.233.477-63|(28) 92916-1765|andre_benites@loj...|       branca|       André Benites|\n",
      "+-----------+--------------+---------------+--------------------+-------------+--------------------+\n",
      "\n"
     ]
    }
   ],
   "source": [
    "idVendedores = [1,1,8,26,30,12,6,19,3,33]\n",
    "VendedoresDF.filter(F.col('id_vendedor').isin(idVendedores)).show()"
   ]
  },
  {
   "cell_type": "code",
   "execution_count": 27,
   "id": "5266d2eb-fb5a-4a60-98a4-015abe1d5588",
   "metadata": {},
   "outputs": [
    {
     "name": "stdout",
     "output_type": "stream",
     "text": [
      "+----------+--------------+---------------+--------------------+--------------------+------+-------------+----+------+\n",
      "|id_cliente|           cpf|       telefone|               email|             cliente|estado|origem_racial|sexo|status|\n",
      "+----------+--------------+---------------+--------------------+--------------------+------+-------------+----+------+\n",
      "|       251|802.404.251-70|(82) 96797-3891|adelina.buenavent...|Adelina Buenaventura|    RJ|        preta|   M|Silver|\n",
      "|       284|096.161.403-02|(71) 96033-3200|antonia.canhao@em...|      Antónia Canhão|    SC|        preta|   F|Silver|\n",
      "|       300|356.589.970-03|(19) 98218-2227|belmiro.marroquim...|   Belmiro Marroquim|    SC|      amarela|   M|Silver|\n",
      "|       335|466.049.055-60|(68) 94346-4877| cid.pardo@email.com|           Cid Pardo|    AL|        preta|   M|Silver|\n",
      "|       480|690.175.659-34|(51) 92030-1486|humberto.vergueir...|  Humberto Vergueiro|    MG|        preta|   M|Silver|\n",
      "|       482|622.783.526-95|(86) 93297-8927|ifigenia.lustosa@...|    Ifigénia Lustosa|    PE|        preta|   F|Silver|\n",
      "|       500|494.501.461-28|(77) 97195-4161|joaquim.mieiro@em...|      Joaquim Mieiro|    TO|        preta|   M|Silver|\n",
      "|       651|546.764.339-80|(62) 90091-8059|eusebio.pacheco@e...|     Eusébio Pacheco|    TO|      amarela|   M|Silver|\n",
      "|       669|018.475.667-74|(83) 93537-5490|flaminia.miera@em...|      Flamínia Miera|    MT|       branca|   F|Silver|\n",
      "|       678|962.464.696-12|(96) 99888-3597|florinda.assuncao...|   Florinda Assunção|    PI|      amarela|   F|Silver|\n",
      "+----------+--------------+---------------+--------------------+--------------------+------+-------------+----+------+\n",
      "\n"
     ]
    }
   ],
   "source": [
    "idClientes = [251,300,300,500,669,480,482,284,678,335,651]\n",
    "ClientesDF.filter(F.col('id_cliente').isin(idClientes)).show()"
   ]
  },
  {
   "cell_type": "code",
   "execution_count": 33,
   "id": "f65b8f23-108f-43bc-8839-c7e3bd4a8deb",
   "metadata": {},
   "outputs": [
    {
     "name": "stdout",
     "output_type": "stream",
     "text": [
      "+--------+\n",
      "|count(1)|\n",
      "+--------+\n",
      "|     530|\n",
      "+--------+\n",
      "\n"
     ]
    }
   ],
   "source": [
    "ClientesDF.select(F.count('*')).show()"
   ]
  },
  {
   "cell_type": "code",
   "execution_count": null,
   "id": "e654887b-fcd7-4857-a9cc-14af0e5710bc",
   "metadata": {},
   "outputs": [],
   "source": []
  },
  {
   "cell_type": "code",
   "execution_count": null,
   "id": "86c0ef4d-12c7-4d6f-a7a8-7cf24643612b",
   "metadata": {},
   "outputs": [],
   "source": []
  },
  {
   "cell_type": "code",
   "execution_count": null,
   "id": "b1dc00f4-ae79-44e1-aa7f-ba550eaf4f7f",
   "metadata": {},
   "outputs": [],
   "source": []
  },
  {
   "cell_type": "code",
   "execution_count": null,
   "id": "2fd043d7-68e8-4709-9e7d-96316c9835b5",
   "metadata": {},
   "outputs": [],
   "source": []
  }
 ],
 "metadata": {
  "kernelspec": {
   "display_name": "Python 3 (ipykernel)",
   "language": "python",
   "name": "python3"
  },
  "language_info": {
   "codemirror_mode": {
    "name": "ipython",
    "version": 3
   },
   "file_extension": ".py",
   "mimetype": "text/x-python",
   "name": "python",
   "nbconvert_exporter": "python",
   "pygments_lexer": "ipython3",
   "version": "3.10.12"
  }
 },
 "nbformat": 4,
 "nbformat_minor": 5
}
