{
 "cells": [
  {
   "cell_type": "markdown",
   "id": "57aacd55-57e9-45ba-8edf-5d59e580735c",
   "metadata": {},
   "source": [
    "PARA NOVO DF"
   ]
  },
  {
   "cell_type": "code",
   "execution_count": 4,
   "id": "52b9182e-5f6c-43c7-85dd-bf0fd412c503",
   "metadata": {},
   "outputs": [
    {
     "name": "stderr",
     "output_type": "stream",
     "text": [
      "24/06/07 14:41:37 WARN WindowExec: No Partition Defined for Window operation! Moving all data to a single partition, this can cause serious performance degradation.\n",
      "24/06/07 14:41:37 WARN WindowExec: No Partition Defined for Window operation! Moving all data to a single partition, this can cause serious performance degradation.\n",
      "24/06/07 14:41:38 WARN WindowExec: No Partition Defined for Window operation! Moving all data to a single partition, this can cause serious performance degradation.\n",
      "                                                                                \r"
     ]
    },
    {
     "name": "stdout",
     "output_type": "stream",
     "text": [
      "+---+-----+-------------+\n",
      "| id| name|surrogate_key|\n",
      "+---+-----+-------------+\n",
      "|  1| John|            1|\n",
      "|  2| Jane|            2|\n",
      "|  3|  Bob|            3|\n",
      "|  4|Alice|            4|\n",
      "+---+-----+-------------+\n",
      "\n"
     ]
    }
   ],
   "source": [
    "from pyspark.sql import SparkSession\n",
    "from pyspark.sql.window import Window\n",
    "from pyspark.sql.functions import row_number\n",
    "\n",
    "# Inicialize a sessão do Spark\n",
    "spark = SparkSession.builder \\\n",
    "    .appName(\"Generate Surrogate Key\") \\\n",
    "    .getOrCreate()\n",
    "\n",
    "# Carregue seus dados\n",
    "data = [(1, \"John\"),\n",
    "        (2, \"Jane\"),\n",
    "        (3, \"Bob\"),\n",
    "        (4, \"Alice\")]\n",
    "\n",
    "df = spark.createDataFrame(data, [\"id\", \"name\"])\n",
    "\n",
    "# Defina uma janela para a função row_number()\n",
    "windowSpec = Window.orderBy(\"id\")\n",
    "\n",
    "# Adicione uma coluna com a surrogate key\n",
    "df = df.withColumn(\"surrogate_key\", row_number().over(windowSpec))\n",
    "\n",
    "# Mostre o resultado\n",
    "df.show()"
   ]
  },
  {
   "cell_type": "markdown",
   "id": "7f625f68-ebe1-4056-bb58-d862cd1ad400",
   "metadata": {},
   "source": [
    "PARA APPEND"
   ]
  },
  {
   "cell_type": "code",
   "execution_count": 8,
   "id": "412dc43a-31de-4f6c-8238-a11d5545495b",
   "metadata": {},
   "outputs": [
    {
     "name": "stderr",
     "output_type": "stream",
     "text": [
      "24/06/07 14:46:39 WARN WindowExec: No Partition Defined for Window operation! Moving all data to a single partition, this can cause serious performance degradation.\n",
      "24/06/07 14:46:39 WARN WindowExec: No Partition Defined for Window operation! Moving all data to a single partition, this can cause serious performance degradation.\n",
      "24/06/07 14:46:39 WARN WindowExec: No Partition Defined for Window operation! Moving all data to a single partition, this can cause serious performance degradation.\n",
      "24/06/07 14:46:39 WARN WindowExec: No Partition Defined for Window operation! Moving all data to a single partition, this can cause serious performance degradation.\n",
      "24/06/07 14:46:40 WARN WindowExec: No Partition Defined for Window operation! Moving all data to a single partition, this can cause serious performance degradation.\n",
      "24/06/07 14:46:40 WARN WindowExec: No Partition Defined for Window operation! Moving all data to a single partition, this can cause serious performance degradation.\n",
      "24/06/07 14:46:40 WARN WindowExec: No Partition Defined for Window operation! Moving all data to a single partition, this can cause serious performance degradation.\n",
      "24/06/07 14:46:40 WARN WindowExec: No Partition Defined for Window operation! Moving all data to a single partition, this can cause serious performance degradation.\n",
      "24/06/07 14:46:40 WARN WindowExec: No Partition Defined for Window operation! Moving all data to a single partition, this can cause serious performance degradation.\n"
     ]
    },
    {
     "name": "stdout",
     "output_type": "stream",
     "text": [
      "+---+-----+-------------+\n",
      "| id| name|surrogate_key|\n",
      "+---+-----+-------------+\n",
      "|  1| John|            1|\n",
      "|  2| Jane|            2|\n",
      "|  3|  Bob|            3|\n",
      "|  4|Alice|            4|\n",
      "|  5|  Eva|            5|\n",
      "|  6| Mike|            6|\n",
      "|  7| Lisa|            7|\n",
      "+---+-----+-------------+\n",
      "\n"
     ]
    }
   ],
   "source": [
    "from pyspark.sql import SparkSession\n",
    "from pyspark.sql.window import Window\n",
    "from pyspark.sql.functions import row_number\n",
    "\n",
    "# Inicialize a sessão do Spark\n",
    "spark = SparkSession.builder \\\n",
    "    .appName(\"Append Surrogate Key\") \\\n",
    "    .getOrCreate()\n",
    "\n",
    "# Carregue seus dados existentes\n",
    "existing_data = [(1, \"John\"),\n",
    "                 (2, \"Jane\"),\n",
    "                 (3, \"Bob\"),\n",
    "                 (4, \"Alice\")]\n",
    "\n",
    "df_existing = spark.createDataFrame(existing_data, [\"id\", \"name\"])\n",
    "\n",
    "# Carregue seus novos dados\n",
    "new_data = [(5, \"Eva\"),\n",
    "            (6, \"Mike\"),\n",
    "            (7, \"Lisa\")]\n",
    "\n",
    "df_new = spark.createDataFrame(new_data, [\"id\", \"name\"])\n",
    "\n",
    "# Determine o valor máximo da surrogate key existente\n",
    "max_existing_key = df.selectExpr(\"max(surrogate_key) as max_key\").collect()[0][\"max_key\"]\n",
    "\n",
    "# Adicione uma coluna com a surrogate key para os novos dados\n",
    "windowSpec = Window.orderBy(\"id\")\n",
    "df_new = df_new.withColumn(\"surrogate_key\", row_number().over(windowSpec) + max_existing_key)\n",
    "\n",
    "# Append dos novos dados ao DataFrame existente\n",
    "df_combined = df.union(df_new)\n",
    "\n",
    "# Mostre o resultado\n",
    "df_combined.show()"
   ]
  },
  {
   "cell_type": "code",
   "execution_count": null,
   "id": "70a05a05-4a5c-4275-b477-ee4a8985da3e",
   "metadata": {},
   "outputs": [],
   "source": []
  }
 ],
 "metadata": {
  "kernelspec": {
   "display_name": "Python 3 (ipykernel)",
   "language": "python",
   "name": "python3"
  },
  "language_info": {
   "codemirror_mode": {
    "name": "ipython",
    "version": 3
   },
   "file_extension": ".py",
   "mimetype": "text/x-python",
   "name": "python",
   "nbconvert_exporter": "python",
   "pygments_lexer": "ipython3",
   "version": "3.10.12"
  }
 },
 "nbformat": 4,
 "nbformat_minor": 5
}
