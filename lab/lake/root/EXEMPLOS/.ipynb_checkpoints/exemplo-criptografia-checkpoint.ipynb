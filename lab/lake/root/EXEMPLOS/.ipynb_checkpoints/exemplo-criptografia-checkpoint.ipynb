{
 "cells": [
  {
   "cell_type": "code",
   "execution_count": 3,
   "id": "a85d301d-75e2-4b12-b2cb-a70c7c03e6d0",
   "metadata": {},
   "outputs": [],
   "source": [
    "# expr(\"base64(aes_encrypt(cpf, '1234567890asdfghjklç', 'ECB', 'PKCS'))\")"
   ]
  },
  {
   "cell_type": "code",
   "execution_count": 93,
   "id": "9ca87fec-e966-41f8-9db1-7211e9b2203d",
   "metadata": {},
   "outputs": [],
   "source": [
    "from pyspark.sql import SparkSession, Row\n",
    "from pyspark.sql.functions import expr, aes_decrypt, base64, unbase64, unhex, lit, aes_encrypt"
   ]
  },
  {
   "cell_type": "code",
   "execution_count": 35,
   "id": "46d11e8e-2c61-4c80-916e-c78dc300356a",
   "metadata": {},
   "outputs": [],
   "source": [
    "# Create SparkSession\n",
    "spark = (SparkSession.builder\n",
    "           .appName('Criptografia')\n",
    "           .config(\"packages\", \"org.apache.spark:mysql-connector-java-8.0.13.jar\")\n",
    "           .getOrCreate()\n",
    "        )"
   ]
  },
  {
   "cell_type": "code",
   "execution_count": 46,
   "id": "1a1d71e8-7144-43c4-a368-b2a269dfa986",
   "metadata": {},
   "outputs": [
    {
     "data": {
      "text/plain": [
       "[Row(r=bytearray(b'Spark'))]"
      ]
     },
     "execution_count": 46,
     "metadata": {},
     "output_type": "execute_result"
    }
   ],
   "source": [
    "df = spark.createDataFrame([(\n",
    "    \"AAAAAAAAAAAAAAAAAAAAAPSd4mWyMZ5mhvjiAPQJnfg=\",\n",
    "    \"abcdefghijklmnop12345678ABCDEFGH\", \"CBC\", \"DEFAULT\",)],\n",
    "    [\"input\", \"key\", \"mode\", \"padding\"]\n",
    ")\n",
    "df.select(aes_decrypt(\n",
    "    unbase64(df.input), df.key, df.mode, df.padding).alias('r')\n",
    ").collect()\n",
    "# [Row(r=bytearray(b'Spark'))]"
   ]
  },
  {
   "cell_type": "code",
   "execution_count": 47,
   "id": "6bc9a026-0915-4d9a-acd7-eb18ca6e6fcd",
   "metadata": {},
   "outputs": [
    {
     "data": {
      "text/plain": [
       "[Row(r=bytearray(b'Spark'))]"
      ]
     },
     "execution_count": 47,
     "metadata": {},
     "output_type": "execute_result"
    }
   ],
   "source": [
    "df.select(aes_decrypt(unbase64(df.input), df.key, df.mode).alias('r')).collect()\n",
    "# [Row(r=bytearray(b'Spark'))]"
   ]
  },
  {
   "cell_type": "code",
   "execution_count": null,
   "id": "76f9f276-e9f4-4820-8716-02eb5ea12168",
   "metadata": {},
   "outputs": [],
   "source": [
    "df = spark.createDataFrame([(\n",
    "    \"83F16B2AA704794132802D248E6BFD4E380078182D1544813898AC97E709B28A94\",\n",
    "    \"0000111122223333\",)],\n",
    "    [\"input\", \"key\"]\n",
    ")\n",
    "df.select(aes_decrypt(unhex(df.input), df.key).alias('r')).collect()\n",
    "# [Row(r=bytearray(b'Spark'))]"
   ]
  },
  {
   "cell_type": "code",
   "execution_count": 103,
   "id": "f08bd0ea-4fcb-496c-b52a-e9c8d83dd8fd",
   "metadata": {},
   "outputs": [
    {
     "data": {
      "text/plain": [
       "[Row(r=bytearray(b'Spark'))]"
      ]
     },
     "execution_count": 103,
     "metadata": {},
     "output_type": "execute_result"
    }
   ],
   "source": [
    "df = spark.createDataFrame([(\n",
    "    \"AAAAAAAAAAAAAAAAQiYi+sTLm7KD9UcZ2nlRdYDe/PX4\",\n",
    "    \"abcdefghijklmnop12345678ABCDEFGH\", \"GCM\", \"DEFAULT\",\n",
    "    \"This is an AAD mixed into the input\",)],\n",
    "    [\"input\", \"key\", \"mode\", \"padding\", \"aad\"]\n",
    ")\n",
    "df.select(aes_decrypt(\n",
    "    unbase64(df.input), df.key, df.mode, df.padding, df.aad).alias('r')\n",
    ").collect()\n",
    "# [Row(r=bytearray(b'Spark'))]"
   ]
  },
  {
   "cell_type": "code",
   "execution_count": null,
   "id": "cd659ebc-5ec0-4bb7-be56-d775680dbdd8",
   "metadata": {},
   "outputs": [],
   "source": []
  },
  {
   "cell_type": "code",
   "execution_count": 116,
   "id": "c976e926-87e6-41ce-9aca-4f8a0066eb7b",
   "metadata": {},
   "outputs": [
    {
     "name": "stdout",
     "output_type": "stream",
     "text": [
      "+-------------+----------+-----+------+---+-----+--------------+------------------------+\n",
      "|employee_name|department|state|salary|age|bonus|cpf           |cpf_criptografado       |\n",
      "+-------------+----------+-----+------+---+-----+--------------+------------------------+\n",
      "|James        |Sales     |NY   |90000 |34 |10000|111.222.333-44|CX4CAhPGbwAcB3KpNkHlwQ==|\n",
      "+-------------+----------+-----+------+---+-----+--------------+------------------------+\n",
      "\n"
     ]
    }
   ],
   "source": [
    "simpleData = [(\"James\",\"Sales\",\"NY\",90000,34,10000, '111.222.333-44')]\n",
    "schema = [\"employee_name\",\"department\",\"state\",\"salary\",\"age\",\"bonus\", 'cpf']\n",
    "df_pessoas = spark.createDataFrame(data=simpleData, schema = schema)\n",
    "\n",
    "# Cria uma nova coluna chamada \"cpf_criptografado\" no DataFrame \"df_pessoas\"\n",
    "# df_pessoas = df_pessoas.withColumn(\"cpf_criptografado\", expr(\"base64(aes_encrypt(cpf, 'minhachavede128b', 'ECB', 'PKCS'))\"))\n",
    "df_pessoas = df_pessoas.withColumn(\"cpf_criptografado\", base64(aes_encrypt('cpf', lit('minhachavede128b'), lit('ECB'), lit('PKCS'))))\n",
    "df_pessoas.show(truncate=False)"
   ]
  },
  {
   "cell_type": "code",
   "execution_count": 120,
   "id": "d87806e3-2962-43a8-b574-5b1287aa0188",
   "metadata": {},
   "outputs": [
    {
     "name": "stdout",
     "output_type": "stream",
     "text": [
      "+--------------+\n",
      "|             r|\n",
      "+--------------+\n",
      "|111.222.333-44|\n",
      "+--------------+\n",
      "\n"
     ]
    }
   ],
   "source": [
    "df_decript = df_pessoas.select(aes_decrypt(unbase64('cpf_criptografado'), lit('minhachavede128b'), lit('ECB'), lit('PKCS')).cast('string').alias('r'))\n",
    "df_decript.show()"
   ]
  },
  {
   "cell_type": "code",
   "execution_count": null,
   "id": "1c4cce59-dcfb-49c3-be56-224857bbdca9",
   "metadata": {},
   "outputs": [],
   "source": [
    "from pyspark.sql.functions import expr\n",
    "\n",
    "# Cria uma nova coluna chamada \"cpf_descriptografado\" no DataFrame \"df_pessoas\" \n",
    "df_pessoas = (\n",
    "        df_pessoas.select('cpf'\n",
    "            ,aes_encrypt('cpf', lit('minhachavede128b'), 'ECB', 'PKCS')\n",
    "            ,base64('cpf').cast('string').alias('cript')\n",
    "            ,unbase64('cpf_criptografado').cast('string').alias('descript'))\n",
    "    )\n",
    "# Mostra o DataFrame resultante com a coluna \"cpf_descriptografado\" \n",
    "df_pessoas.show(truncate=False)   "
   ]
  },
  {
   "cell_type": "code",
   "execution_count": null,
   "id": "ded48ac2-4ba9-4bc2-8cc7-f4dbfcdbe621",
   "metadata": {},
   "outputs": [],
   "source": []
  },
  {
   "cell_type": "code",
   "execution_count": null,
   "id": "7a35c122-76e2-4ef1-9b44-c511195f747e",
   "metadata": {},
   "outputs": [],
   "source": []
  },
  {
   "cell_type": "code",
   "execution_count": null,
   "id": "224e3cb1-5ee0-43d8-a20f-c4cf8a318980",
   "metadata": {},
   "outputs": [],
   "source": []
  },
  {
   "cell_type": "code",
   "execution_count": null,
   "id": "39460423-eaca-44c4-9e27-88d2116ede2c",
   "metadata": {},
   "outputs": [],
   "source": []
  }
 ],
 "metadata": {
  "kernelspec": {
   "display_name": "Python 3 (ipykernel)",
   "language": "python",
   "name": "python3"
  },
  "language_info": {
   "codemirror_mode": {
    "name": "ipython",
    "version": 3
   },
   "file_extension": ".py",
   "mimetype": "text/x-python",
   "name": "python",
   "nbconvert_exporter": "python",
   "pygments_lexer": "ipython3",
   "version": "3.10.12"
  }
 },
 "nbformat": 4,
 "nbformat_minor": 5
}
