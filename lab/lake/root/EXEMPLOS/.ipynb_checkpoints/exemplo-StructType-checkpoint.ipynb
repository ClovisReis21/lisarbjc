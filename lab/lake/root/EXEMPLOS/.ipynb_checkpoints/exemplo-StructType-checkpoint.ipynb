{
 "cells": [
  {
   "cell_type": "code",
   "execution_count": 1,
   "id": "bac87a45-9c68-4516-a850-a6f392cd499a",
   "metadata": {},
   "outputs": [],
   "source": [
    "# Imports\n",
    "import pyspark\n",
    "from pyspark.sql import SparkSession\n",
    "from pyspark.sql.types import StructType,StructField, StringType, IntegerType, DoubleType, DateType, ArrayType\n",
    "import pyspark.sql.functions as F\n",
    "# import pyspark.sql.functions.datetime"
   ]
  },
  {
   "cell_type": "code",
   "execution_count": 2,
   "id": "3438a146-6c71-4045-a1d3-27a305fb5848",
   "metadata": {},
   "outputs": [
    {
     "name": "stderr",
     "output_type": "stream",
     "text": [
      "24/05/30 23:26:01 WARN Utils: Your hostname, cj resolves to a loopback address: 127.0.1.1; using 192.168.15.34 instead (on interface enp2s0)\n",
      "24/05/30 23:26:01 WARN Utils: Set SPARK_LOCAL_IP if you need to bind to another address\n",
      "Setting default log level to \"WARN\".\n",
      "To adjust logging level use sc.setLogLevel(newLevel). For SparkR, use setLogLevel(newLevel).\n",
      "24/05/30 23:26:01 WARN NativeCodeLoader: Unable to load native-hadoop library for your platform... using builtin-java classes where applicable\n"
     ]
    }
   ],
   "source": [
    "spark = SparkSession.builder.master(\"local[1]\") \\\n",
    "                    .appName('SparkByExamples.com') \\\n",
    "                    .getOrCreate()"
   ]
  },
  {
   "cell_type": "markdown",
   "id": "2aa98d6a-45c0-4512-8acb-ca1989f89600",
   "metadata": {},
   "source": [
    "FATURAMENTO vs DESCONTO"
   ]
  },
  {
   "cell_type": "code",
   "execution_count": 4,
   "id": "89d244f5-8301-4332-bb14-4ce5f51f3d87",
   "metadata": {},
   "outputs": [
    {
     "name": "stdout",
     "output_type": "stream",
     "text": [
      "root\n",
      " |-- faturamento: double (nullable = true)\n",
      " |-- desconto: double (nullable = true)\n",
      " |-- venda: double (nullable = true)\n",
      "\n"
     ]
    },
    {
     "name": "stderr",
     "output_type": "stream",
     "text": [
      "                                                                                \r"
     ]
    },
    {
     "name": "stdout",
     "output_type": "stream",
     "text": [
      "+-----------+--------+------+\n",
      "|faturamento|desconto|venda |\n",
      "+-----------+--------+------+\n",
      "|1000.0     |100.0   |1100.0|\n",
      "|2000.0     |200.0   |2200.0|\n",
      "|3000.0     |300.0   |3300.0|\n",
      "+-----------+--------+------+\n",
      "\n",
      "root\n",
      " |-- value: string (nullable = true)\n",
      "\n",
      "+------------------------------------------------------+\n",
      "|value                                                 |\n",
      "+------------------------------------------------------+\n",
      "|{\"faturamento\":1000.0,\"desconto\":100.0,\"venda\":1100.0}|\n",
      "|{\"faturamento\":2000.0,\"desconto\":200.0,\"venda\":2200.0}|\n",
      "|{\"faturamento\":3000.0,\"desconto\":300.0,\"venda\":3300.0}|\n",
      "+------------------------------------------------------+\n",
      "\n",
      "['{\"faturamento\":1000.0,\"desconto\":100.0,\"venda\":1100.0}', '{\"faturamento\":2000.0,\"desconto\":200.0,\"venda\":2200.0}', '{\"faturamento\":3000.0,\"desconto\":300.0,\"venda\":3300.0}']\n"
     ]
    }
   ],
   "source": [
    "fat_desc_schema = StructType([\n",
    "    StructField(\"faturamento\", DoubleType(), True),\n",
    "    StructField(\"desconto\", DoubleType(), True),\n",
    "    StructField(\"venda\", DoubleType(), True)\n",
    "])\n",
    "fat_desc_data = [(1000.00,100.00,1100.00),(2000.00,200.00,2200.00),(3000.00,300.00,3300.00)]\n",
    "fat_desc_df = spark.createDataFrame(data=fat_desc_data,schema=fat_desc_schema)\n",
    "fat_desc_df.printSchema()\n",
    "fat_desc_df.show(truncate=False)\n",
    "# ------------------------------------------------------------------------------------- #\n",
    "str_fat_desc_df = fat_desc_df.select(F.to_json(F.struct(*fat_desc_df.columns)).alias(\"value\"))\n",
    "str_fat_desc_df.printSchema()\n",
    "str_fat_desc_df.select('value').show(truncate=False)\n",
    "# ------------------------------------------------------------------------------------- #\n",
    "array_fat_desc_df = str_fat_desc_df.select(\"value\").rdd.flatMap(lambda x: x).collect()\n",
    "print(array_fat_desc_df)"
   ]
  },
  {
   "cell_type": "markdown",
   "id": "4d8a7403-b038-4e8c-8177-987a37c6df28",
   "metadata": {},
   "source": [
    "MAIORES VENDAS vs VENDEDOR"
   ]
  },
  {
   "cell_type": "code",
   "execution_count": 5,
   "id": "115117ac-7d8f-4ae7-8718-9279238cc5ad",
   "metadata": {},
   "outputs": [
    {
     "name": "stdout",
     "output_type": "stream",
     "text": [
      "root\n",
      " |-- id_vendedor: integer (nullable = true)\n",
      " |-- valor_faturado: double (nullable = true)\n",
      "\n",
      "+-----------+--------------+\n",
      "|id_vendedor|valor_faturado|\n",
      "+-----------+--------------+\n",
      "|1          |10.0          |\n",
      "|2          |20.0          |\n",
      "|2          |20.0          |\n",
      "+-----------+--------------+\n",
      "\n",
      "root\n",
      " |-- value: string (nullable = true)\n",
      "\n",
      "+---------------------------------------+\n",
      "|value                                  |\n",
      "+---------------------------------------+\n",
      "|{\"id_vendedor\":1,\"valor_faturado\":10.0}|\n",
      "|{\"id_vendedor\":2,\"valor_faturado\":20.0}|\n",
      "|{\"id_vendedor\":2,\"valor_faturado\":20.0}|\n",
      "+---------------------------------------+\n",
      "\n",
      "['{\"id_vendedor\":1,\"valor_faturado\":10.0}', '{\"id_vendedor\":2,\"valor_faturado\":20.0}', '{\"id_vendedor\":2,\"valor_faturado\":20.0}']\n"
     ]
    }
   ],
   "source": [
    "maiores_venda_schema = StructType([\n",
    "    StructField(\"id_vendedor\", IntegerType(), True),\n",
    "    StructField(\"valor_faturado\", DoubleType(), True)\n",
    "])\n",
    "maiores_venda_data = [(1,10.00),(2,20.00),(2,20.00)]\n",
    "maiores_venda_df = spark.createDataFrame(data=maiores_venda_data,schema=maiores_venda_schema)\n",
    "maiores_venda_df.printSchema()\n",
    "maiores_venda_df.show(truncate=False)\n",
    "# ------------------------------------------------------------------------------------- #\n",
    "str_maiores_venda_df = maiores_venda_df.select(F.to_json(F.struct(*maiores_venda_df.columns)).alias(\"value\"))\n",
    "str_maiores_venda_df.printSchema()\n",
    "str_maiores_venda_df.select('value').show(truncate=False)\n",
    "# ------------------------------------------------------------------------------------- #\n",
    "array_maiores_venda = str_maiores_venda_df.select(\"value\").rdd.flatMap(lambda x: x).collect()\n",
    "print(array_maiores_venda)"
   ]
  },
  {
   "cell_type": "markdown",
   "id": "9bbd65fa-343e-47b4-8a9d-a17b5a799cfb",
   "metadata": {},
   "source": [
    "MAIS VENDIDOS"
   ]
  },
  {
   "cell_type": "code",
   "execution_count": 6,
   "id": "1fc47421-2ad2-4d63-a1a8-3add7d6d7291",
   "metadata": {},
   "outputs": [
    {
     "name": "stdout",
     "output_type": "stream",
     "text": [
      "root\n",
      " |-- idid_vendedor: integer (nullable = true)\n",
      " |-- idid_cliente: integer (nullable = true)\n",
      " |-- idid_produto: integer (nullable = true)\n",
      " |-- idid_venda: integer (nullable = true)\n",
      " |-- idquantidade: integer (nullable = true)\n",
      " |-- vavalor_unitario: double (nullable = true)\n",
      " |-- vavalor_total: double (nullable = true)\n",
      " |-- vadesconto: double (nullable = true)\n",
      "\n",
      "+-------------+------------+------------+----------+------------+----------------+-------------+----------+\n",
      "|idid_vendedor|idid_cliente|idid_produto|idid_venda|idquantidade|vavalor_unitario|vavalor_total|vadesconto|\n",
      "+-------------+------------+------------+----------+------------+----------------+-------------+----------+\n",
      "|1            |1           |1           |1         |10          |10.0            |90.0         |10.0      |\n",
      "|1            |1           |1           |1         |10          |10.0            |90.0         |10.0      |\n",
      "|1            |1           |1           |1         |10          |10.0            |90.0         |10.0      |\n",
      "+-------------+------------+------------+----------+------------+----------------+-------------+----------+\n",
      "\n",
      "root\n",
      " |-- value: string (nullable = true)\n",
      "\n",
      "+-----------------------------------------------------------------------------------------------------------------------------------------------------+\n",
      "|value                                                                                                                                                |\n",
      "+-----------------------------------------------------------------------------------------------------------------------------------------------------+\n",
      "|{\"idid_vendedor\":1,\"idid_cliente\":1,\"idid_produto\":1,\"idid_venda\":1,\"idquantidade\":10,\"vavalor_unitario\":10.0,\"vavalor_total\":90.0,\"vadesconto\":10.0}|\n",
      "|{\"idid_vendedor\":1,\"idid_cliente\":1,\"idid_produto\":1,\"idid_venda\":1,\"idquantidade\":10,\"vavalor_unitario\":10.0,\"vavalor_total\":90.0,\"vadesconto\":10.0}|\n",
      "|{\"idid_vendedor\":1,\"idid_cliente\":1,\"idid_produto\":1,\"idid_venda\":1,\"idquantidade\":10,\"vavalor_unitario\":10.0,\"vavalor_total\":90.0,\"vadesconto\":10.0}|\n",
      "+-----------------------------------------------------------------------------------------------------------------------------------------------------+\n",
      "\n",
      "['{\"idid_vendedor\":1,\"idid_cliente\":1,\"idid_produto\":1,\"idid_venda\":1,\"idquantidade\":10,\"vavalor_unitario\":10.0,\"vavalor_total\":90.0,\"vadesconto\":10.0}', '{\"idid_vendedor\":1,\"idid_cliente\":1,\"idid_produto\":1,\"idid_venda\":1,\"idquantidade\":10,\"vavalor_unitario\":10.0,\"vavalor_total\":90.0,\"vadesconto\":10.0}', '{\"idid_vendedor\":1,\"idid_cliente\":1,\"idid_produto\":1,\"idid_venda\":1,\"idquantidade\":10,\"vavalor_unitario\":10.0,\"vavalor_total\":90.0,\"vadesconto\":10.0}']\n"
     ]
    }
   ],
   "source": [
    "mais_mendidos_schema = StructType([\n",
    "    StructField(\"idid_vendedor\", IntegerType(), True),\n",
    "    StructField(\"idid_cliente\", IntegerType(), True),\n",
    "    StructField(\"idid_produto\", IntegerType(), True),\n",
    "    StructField(\"idid_venda\", IntegerType(), True),\n",
    "    StructField(\"idquantidade\", IntegerType(), True),\n",
    "    StructField(\"vavalor_unitario\", DoubleType(), True),\n",
    "    StructField(\"vavalor_total\", DoubleType(), True),\n",
    "    StructField(\"vadesconto\", DoubleType(), True)\n",
    "])\n",
    "mais_mendidos_data = [(1,1,1,1,10,10.0,90.0,10.00),(1,1,1,1,10,10.0,90.0,10.00),(1,1,1,1,10,10.0,90.0,10.00)]\n",
    "mais_mendidos_df = spark.createDataFrame(data=mais_mendidos_data,schema=mais_mendidos_schema)\n",
    "mais_mendidos_df.printSchema()\n",
    "mais_mendidos_df.show(truncate=False)\n",
    "# ------------------------------------------------------------------------------------- #\n",
    "str_mais_mendidos_df = mais_mendidos_df.select(F.to_json(F.struct(*mais_mendidos_df.columns)).alias(\"value\"))\n",
    "str_mais_mendidos_df.printSchema()\n",
    "str_mais_mendidos_df.select('value').show(truncate=False)\n",
    "# ------------------------------------------------------------------------------------- #\n",
    "array_mais_mendidos = str_mais_mendidos_df.select(\"value\").rdd.flatMap(lambda x: x).collect()\n",
    "print(array_mais_mendidos)"
   ]
  },
  {
   "cell_type": "code",
   "execution_count": 7,
   "id": "1778ebd7-1fd6-4d1f-95d7-6bc6f1cf084c",
   "metadata": {},
   "outputs": [
    {
     "name": "stdout",
     "output_type": "stream",
     "text": [
      "root\n",
      " |-- data: string (nullable = true)\n",
      " |-- quantidade_vendas: double (nullable = true)\n",
      "\n",
      "+----+-----------------+\n",
      "|data|quantidade_vendas|\n",
      "+----+-----------------+\n",
      "|1   |1000.0           |\n",
      "|2   |2000.0           |\n",
      "|3   |3000.0           |\n",
      "+----+-----------------+\n",
      "\n"
     ]
    }
   ],
   "source": [
    "qtd_venda_schema = StructType([\n",
    "    StructField(\"data\", StringType(), True),\n",
    "    StructField(\"quantidade_vendas\", DoubleType(), True)\n",
    "])\n",
    "qtd_venda_data = [(1,1000.0),(2,2000.00),(3,3000.00)]\n",
    "qtd_venda_df = spark.createDataFrame(data=qtd_venda_data,schema=qtd_venda_schema)\n",
    "qtd_venda_df.printSchema()\n",
    "qtd_venda_df.show(truncate=False)"
   ]
  },
  {
   "cell_type": "markdown",
   "id": "7ad582ca-93e9-466d-853b-cfe40e3d9d7b",
   "metadata": {},
   "source": [
    "FINAL"
   ]
  },
  {
   "cell_type": "code",
   "execution_count": 8,
   "id": "07a24c06-42c9-4818-b1e4-0688b1d40ad2",
   "metadata": {},
   "outputs": [
    {
     "name": "stdout",
     "output_type": "stream",
     "text": [
      "root\n",
      " |-- data: string (nullable = true)\n",
      " |-- quantidade_vendas: integer (nullable = true)\n",
      " |-- faturamento_desconto: array (nullable = true)\n",
      " |    |-- element: string (containsNull = true)\n",
      " |-- maiores_vendas: array (nullable = true)\n",
      " |    |-- element: string (containsNull = true)\n",
      " |-- mais_vendidos: array (nullable = true)\n",
      " |    |-- element: string (containsNull = true)\n",
      "\n",
      "+-----------------------+-----------------+------------------------------------------------------------------------------------------------------------------------------------------------------------------------+---------------------------------------------------------------------------------------------------------------------------+---------------------------------------------------------------------------------------------------------------------------------------------------------------------------------------------------------------------------------------------------------------------------------------------------------------------------------------------------------------------------------------------------------------------------------------------------------------------+\n",
      "|data                   |quantidade_vendas|faturamento_desconto                                                                                                                                                    |maiores_vendas                                                                                                             |mais_vendidos                                                                                                                                                                                                                                                                                                                                                                                                                                                        |\n",
      "+-----------------------+-----------------+------------------------------------------------------------------------------------------------------------------------------------------------------------------------+---------------------------------------------------------------------------------------------------------------------------+---------------------------------------------------------------------------------------------------------------------------------------------------------------------------------------------------------------------------------------------------------------------------------------------------------------------------------------------------------------------------------------------------------------------------------------------------------------------+\n",
      "|2024-05-30 23:23:00.000|400              |[{\"faturamento\":1000.0,\"desconto\":100.0,\"venda\":1100.0}, {\"faturamento\":2000.0,\"desconto\":200.0,\"venda\":2200.0}, {\"faturamento\":3000.0,\"desconto\":300.0,\"venda\":3300.0}]|[{\"id_vendedor\":1,\"valor_faturado\":10.0}, {\"id_vendedor\":2,\"valor_faturado\":20.0}, {\"id_vendedor\":2,\"valor_faturado\":20.0}]|[{\"idid_vendedor\":1,\"idid_cliente\":1,\"idid_produto\":1,\"idid_venda\":1,\"idquantidade\":10,\"vavalor_unitario\":10.0,\"vavalor_total\":90.0,\"vadesconto\":10.0}, {\"idid_vendedor\":1,\"idid_cliente\":1,\"idid_produto\":1,\"idid_venda\":1,\"idquantidade\":10,\"vavalor_unitario\":10.0,\"vavalor_total\":90.0,\"vadesconto\":10.0}, {\"idid_vendedor\":1,\"idid_cliente\":1,\"idid_produto\":1,\"idid_venda\":1,\"idquantidade\":10,\"vavalor_unitario\":10.0,\"vavalor_total\":90.0,\"vadesconto\":10.0}]|\n",
      "+-----------------------+-----------------+------------------------------------------------------------------------------------------------------------------------------------------------------------------------+---------------------------------------------------------------------------------------------------------------------------+---------------------------------------------------------------------------------------------------------------------------------------------------------------------------------------------------------------------------------------------------------------------------------------------------------------------------------------------------------------------------------------------------------------------------------------------------------------------+\n",
      "\n",
      "root\n",
      " |-- value: string (nullable = true)\n",
      "\n"
     ]
    },
    {
     "data": {
      "text/plain": [
       "[Row(value='{\"data\":\"2024-05-30 23:23:00.000\",\"quantidade_vendas\":400,\"faturamento_desconto\":[\"{\\\\\"faturamento\\\\\":1000.0,\\\\\"desconto\\\\\":100.0,\\\\\"venda\\\\\":1100.0}\",\"{\\\\\"faturamento\\\\\":2000.0,\\\\\"desconto\\\\\":200.0,\\\\\"venda\\\\\":2200.0}\",\"{\\\\\"faturamento\\\\\":3000.0,\\\\\"desconto\\\\\":300.0,\\\\\"venda\\\\\":3300.0}\"],\"maiores_vendas\":[\"{\\\\\"id_vendedor\\\\\":1,\\\\\"valor_faturado\\\\\":10.0}\",\"{\\\\\"id_vendedor\\\\\":2,\\\\\"valor_faturado\\\\\":20.0}\",\"{\\\\\"id_vendedor\\\\\":2,\\\\\"valor_faturado\\\\\":20.0}\"],\"mais_vendidos\":[\"{\\\\\"idid_vendedor\\\\\":1,\\\\\"idid_cliente\\\\\":1,\\\\\"idid_produto\\\\\":1,\\\\\"idid_venda\\\\\":1,\\\\\"idquantidade\\\\\":10,\\\\\"vavalor_unitario\\\\\":10.0,\\\\\"vavalor_total\\\\\":90.0,\\\\\"vadesconto\\\\\":10.0}\",\"{\\\\\"idid_vendedor\\\\\":1,\\\\\"idid_cliente\\\\\":1,\\\\\"idid_produto\\\\\":1,\\\\\"idid_venda\\\\\":1,\\\\\"idquantidade\\\\\":10,\\\\\"vavalor_unitario\\\\\":10.0,\\\\\"vavalor_total\\\\\":90.0,\\\\\"vadesconto\\\\\":10.0}\",\"{\\\\\"idid_vendedor\\\\\":1,\\\\\"idid_cliente\\\\\":1,\\\\\"idid_produto\\\\\":1,\\\\\"idid_venda\\\\\":1,\\\\\"idquantidade\\\\\":10,\\\\\"vavalor_unitario\\\\\":10.0,\\\\\"vavalor_total\\\\\":90.0,\\\\\"vadesconto\\\\\":10.0}\"]}')]"
      ]
     },
     "execution_count": 8,
     "metadata": {},
     "output_type": "execute_result"
    }
   ],
   "source": [
    "esquema = StructType([\n",
    "    StructField(\"data\", StringType(), True),\n",
    "    StructField(\"quantidade_vendas\", IntegerType(), True),\n",
    "    StructField(\"faturamento_desconto\", ArrayType(StringType()),True),\n",
    "    StructField(\"maiores_vendas\", ArrayType(StringType()),True),\n",
    "    StructField(\"mais_vendidos\", ArrayType(StringType()),True),\n",
    "])\n",
    "\n",
    "dados = [\n",
    "    ('2024-05-30 23:23:00.000', 400, array_fat_desc_df, array_maiores_venda, array_mais_mendidos)\n",
    "]\n",
    "# esquema\n",
    "df = spark.createDataFrame(data=dados,schema=esquema)\n",
    "df.printSchema()\n",
    "df.show(truncate=False)\n",
    "df.collect()\n",
    "\n",
    "output_df = df.select(F.to_json(F.struct(*df.columns)).alias(\"value\"))\n",
    "output_df.printSchema()\n",
    "output_df.select('value').collect()"
   ]
  },
  {
   "cell_type": "code",
   "execution_count": null,
   "id": "8d012082-3c70-4657-bd49-a75859efccc1",
   "metadata": {},
   "outputs": [],
   "source": []
  }
 ],
 "metadata": {
  "kernelspec": {
   "display_name": "Python 3 (ipykernel)",
   "language": "python",
   "name": "python3"
  },
  "language_info": {
   "codemirror_mode": {
    "name": "ipython",
    "version": 3
   },
   "file_extension": ".py",
   "mimetype": "text/x-python",
   "name": "python",
   "nbconvert_exporter": "python",
   "pygments_lexer": "ipython3",
   "version": "3.10.12"
  }
 },
 "nbformat": 4,
 "nbformat_minor": 5
}
