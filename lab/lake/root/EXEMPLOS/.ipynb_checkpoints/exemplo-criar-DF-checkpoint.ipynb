{
 "cells": [
  {
   "cell_type": "code",
   "execution_count": 1,
   "id": "67cb8875-7908-4512-bb0b-eba99cbefbf4",
   "metadata": {},
   "outputs": [
    {
     "name": "stderr",
     "output_type": "stream",
     "text": [
      "24/05/24 17:46:29 WARN Utils: Your hostname, cj resolves to a loopback address: 127.0.1.1; using 192.168.15.34 instead (on interface enp2s0)\n",
      "24/05/24 17:46:29 WARN Utils: Set SPARK_LOCAL_IP if you need to bind to another address\n",
      "Setting default log level to \"WARN\".\n",
      "To adjust logging level use sc.setLogLevel(newLevel). For SparkR, use setLogLevel(newLevel).\n",
      "24/05/24 17:46:30 WARN NativeCodeLoader: Unable to load native-hadoop library for your platform... using builtin-java classes where applicable\n",
      "24/05/24 17:46:30 WARN Utils: Service 'SparkUI' could not bind on port 4040. Attempting port 4041.\n",
      "24/05/24 17:46:30 WARN Utils: Service 'SparkUI' could not bind on port 4041. Attempting port 4042.\n",
      "24/05/24 17:46:30 WARN Utils: Service 'SparkUI' could not bind on port 4042. Attempting port 4043.\n"
     ]
    },
    {
     "name": "stdout",
     "output_type": "stream",
     "text": [
      "root\n",
      " |-- Product Name: string (nullable = true)\n",
      " |-- Product ID: long (nullable = true)\n",
      " |-- Rating: float (nullable = true)\n",
      " |-- Product Price: integer (nullable = true)\n",
      "\n"
     ]
    },
    {
     "name": "stderr",
     "output_type": "stream",
     "text": [
      "                                                                                \r"
     ]
    },
    {
     "name": "stdout",
     "output_type": "stream",
     "text": [
      "+---------------+----------+------+-------------+\n",
      "|   Product Name|Product ID|Rating|Product Price|\n",
      "+---------------+----------+------+-------------+\n",
      "|   Refrigerator|    112345|   4.0|        12499|\n",
      "|         LED TV|    114567|   4.2|        49999|\n",
      "|Washing Machine|    113465|   3.9|        69999|\n",
      "|        T-shirt|    124378|   4.1|         1999|\n",
      "|          Jeans|    126754|   3.7|         3999|\n",
      "|  Running Shoes|    134565|   4.7|         1499|\n",
      "|      Face Mask|    145234|   4.6|          999|\n",
      "+---------------+----------+------+-------------+\n",
      "\n"
     ]
    }
   ],
   "source": [
    "# importing necessary libraries\n",
    "from pyspark.sql import SparkSession\n",
    "from pyspark.sql.types import StructType, StructField, IntegerType, LongType, StringType, FloatType\n",
    " \n",
    "# function to create SparkSession\n",
    "def create_session():\n",
    "    spk = SparkSession.builder \\\n",
    "        .master(\"local\") \\\n",
    "        .appName(\"Product_mart.com\") \\\n",
    "        .getOrCreate()\n",
    "    return spk\n",
    " \n",
    "# function to create dataframe\n",
    "def create_df(spark, data, schema):\n",
    "    df1 = spark.createDataFrame(data, schema)\n",
    "    return df1\n",
    " \n",
    " \n",
    "if __name__ == \"__main__\":\n",
    " \n",
    "    # calling function to create SparkSession\n",
    "    spark = create_session()\n",
    " \n",
    "    input_data = [(\"Refrigerator\", 112345, 4.0, 12499),\n",
    "                  (\"LED TV\", 114567, 4.2, 49999),\n",
    "                  (\"Washing Machine\", 113465, 3.9, 69999),\n",
    "                  (\"T-shirt\", 124378, 4.1, 1999),\n",
    "                  (\"Jeans\", 126754, 3.7, 3999),\n",
    "                  (\"Running Shoes\", 134565, 4.7, 1499),\n",
    "                  (\"Face Mask\", 145234, 4.6, 999)]\n",
    " \n",
    "    # defining schema for the dataframe with\n",
    "    # StructType and StructField\n",
    "    schm = StructType([\n",
    "        StructField(\"Product Name\", StringType(), True),\n",
    "        StructField(\"Product ID\", LongType(), True),\n",
    "        StructField(\"Rating\", FloatType(), True),\n",
    "        StructField(\"Product Price\", IntegerType(), True),\n",
    "    ])\n",
    " \n",
    "    # calling function to create dataframe\n",
    "    df = create_df(spark, input_data, schm)\n",
    " \n",
    "    # visualizing dataframe and it's schema\n",
    "    df.printSchema()\n",
    "    df.show()"
   ]
  },
  {
   "cell_type": "code",
   "execution_count": null,
   "id": "1161d9a6-64fd-40b4-8095-8d6208907b42",
   "metadata": {},
   "outputs": [],
   "source": []
  }
 ],
 "metadata": {
  "kernelspec": {
   "display_name": "Python 3 (ipykernel)",
   "language": "python",
   "name": "python3"
  },
  "language_info": {
   "codemirror_mode": {
    "name": "ipython",
    "version": 3
   },
   "file_extension": ".py",
   "mimetype": "text/x-python",
   "name": "python",
   "nbconvert_exporter": "python",
   "pygments_lexer": "ipython3",
   "version": "3.10.12"
  }
 },
 "nbformat": 4,
 "nbformat_minor": 5
}
