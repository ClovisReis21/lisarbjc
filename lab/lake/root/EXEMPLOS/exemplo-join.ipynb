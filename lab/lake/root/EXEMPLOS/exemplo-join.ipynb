{
 "cells": [
  {
   "cell_type": "code",
   "execution_count": 1,
   "id": "11528fcc-fc40-4e20-895c-44477d18639b",
   "metadata": {},
   "outputs": [],
   "source": [
    "import pyspark\n",
    "from pyspark.sql import SparkSession\n",
    "from pyspark.sql.functions import col, row_number\n",
    "from pyspark.sql.window import Window"
   ]
  },
  {
   "cell_type": "code",
   "execution_count": 2,
   "id": "4bb2af5f-2a17-41be-a6c9-eeff8b98a62b",
   "metadata": {},
   "outputs": [
    {
     "name": "stderr",
     "output_type": "stream",
     "text": [
      "24/06/09 11:29:47 WARN Utils: Your hostname, cj resolves to a loopback address: 127.0.1.1; using 192.168.15.34 instead (on interface enp2s0)\n",
      "24/06/09 11:29:47 WARN Utils: Set SPARK_LOCAL_IP if you need to bind to another address\n",
      "Setting default log level to \"WARN\".\n",
      "To adjust logging level use sc.setLogLevel(newLevel). For SparkR, use setLogLevel(newLevel).\n",
      "24/06/09 11:29:48 WARN NativeCodeLoader: Unable to load native-hadoop library for your platform... using builtin-java classes where applicable\n",
      "24/06/09 11:29:49 WARN Utils: Service 'SparkUI' could not bind on port 4040. Attempting port 4041.\n",
      "24/06/09 11:29:49 WARN Utils: Service 'SparkUI' could not bind on port 4041. Attempting port 4042.\n"
     ]
    }
   ],
   "source": [
    "spark = SparkSession.builder.appName(\"sparkbyexamples.com\").getOrCreate()"
   ]
  },
  {
   "cell_type": "code",
   "execution_count": 3,
   "id": "0f73375b-1c33-4414-ba34-ce502b9292ac",
   "metadata": {},
   "outputs": [
    {
     "name": "stdout",
     "output_type": "stream",
     "text": [
      "oldDF\n"
     ]
    },
    {
     "name": "stderr",
     "output_type": "stream",
     "text": [
      "                                                                                \r"
     ]
    },
    {
     "name": "stdout",
     "output_type": "stream",
     "text": [
      "+-------------+------+--------+---------------+-----------+-----------+------+------+\n",
      "|surrogate_key|emp_id|name    |superior_emp_id|year_joined|emp_dept_id|gender|salary|\n",
      "+-------------+------+--------+---------------+-----------+-----------+------+------+\n",
      "|1            |1     |Smith   |-1             |2018       |10         |M     |3000  |\n",
      "|2            |2     |Rose    |1              |2010       |20         |M     |4000  |\n",
      "|3            |3     |Williams|1              |2010       |10         |M     |1000  |\n",
      "|4            |4     |Jones   |2              |2005       |10         |F     |2000  |\n",
      "+-------------+------+--------+---------------+-----------+-----------+------+------+\n",
      "\n",
      "emp_new\n",
      "+------+--------+---------------+-----------+-----------+------+------+\n",
      "|emp_id|name    |superior_emp_id|year_joined|emp_dept_id|gender|salary|\n",
      "+------+--------+---------------+-----------+-----------+------+------+\n",
      "|1     |Smith   |-1             |2018       |10         |M     |3000  |\n",
      "|2     |Rose    |1              |2010       |20         |M     |4000  |\n",
      "|3     |Williams|1              |2010       |10         |M     |1000  |\n",
      "|4     |Jones   |2              |2005       |10         |F     |2000  |\n",
      "|5     |Brown   |2              |2010       |40         |      |5000  |\n",
      "|6     |Brown   |2              |2010       |50         |      |3500  |\n",
      "+------+--------+---------------+-----------+-----------+------+------+\n",
      "\n"
     ]
    }
   ],
   "source": [
    "emp = ([\n",
    "    (1,1,\"Smith\",-1,\"2018\",\"10\",\"M\",3000),\n",
    "    (2,2,\"Rose\",1,\"2010\",\"20\",\"M\",4000),\n",
    "    (3,3,\"Williams\",1,\"2010\",\"10\",\"M\",1000),\n",
    "    (4,4,\"Jones\",2,\"2005\",\"10\",\"F\",2000),\n",
    "  ])\n",
    "empColumns = ([\"surrogate_key\",\"emp_id\",\"name\",\"superior_emp_id\",\"year_joined\",\n",
    "       \"emp_dept_id\",\"gender\",\"salary\"])\n",
    "\n",
    "oldDF = spark.createDataFrame(data=emp, schema = empColumns)\n",
    "# oldDF.printSchema()\n",
    "print('oldDF')\n",
    "oldDF.show(truncate=False)\n",
    "\n",
    "emp_new = ([\n",
    "    (1,\"Smith\",-1,\"2018\",\"10\",\"M\",3000),\n",
    "    (2,\"Rose\",1,\"2010\",\"20\",\"M\",4000),\n",
    "    (3,\"Williams\",1,\"2010\",\"10\",\"M\",1000),\n",
    "    (4,\"Jones\",2,\"2005\",\"10\",\"F\",2000),\n",
    "    (5,\"Brown\",2,\"2010\",\"40\",\"\",5000),\n",
    "    (6,\"Brown\",2,\"2010\",\"50\",\"\",3500)\n",
    "  ])\n",
    "emp_newColumns = ([\"emp_id\",\"name\",\"superior_emp_id\",\"year_joined\",\n",
    "       \"emp_dept_id\",\"gender\",\"salary\"])\n",
    "newDF = spark.createDataFrame(data=emp_new, schema = emp_newColumns)\n",
    "# newDF.printSchema()\n",
    "print('emp_new')\n",
    "newDF.show(truncate=False)"
   ]
  },
  {
   "cell_type": "code",
   "execution_count": 3,
   "id": "24185688-bb18-4813-9b18-c113d7599e42",
   "metadata": {},
   "outputs": [
    {
     "name": "stderr",
     "output_type": "stream",
     "text": [
      "                                                                                \r"
     ]
    },
    {
     "name": "stdout",
     "output_type": "stream",
     "text": [
      "+------+-----+---------------+-----------+-----------+------+------+\n",
      "|emp_id|name |superior_emp_id|year_joined|emp_dept_id|gender|salary|\n",
      "+------+-----+---------------+-----------+-----------+------+------+\n",
      "|5     |Brown|2              |2010       |40         |      |5000  |\n",
      "|6     |Brown|2              |2010       |50         |      |3500  |\n",
      "+------+-----+---------------+-----------+-----------+------+------+\n",
      "\n"
     ]
    }
   ],
   "source": [
    "# SELECIONAR DADOS NOVOS\n",
    "newData = (newDF.join(oldDF\n",
    "            ,((oldDF.emp_id == newDF.emp_id) &\n",
    "                (oldDF.name == newDF.name) &\n",
    "                (oldDF.superior_emp_id == newDF.superior_emp_id) &\n",
    "                (oldDF.year_joined == newDF.year_joined) &\n",
    "                (oldDF.emp_dept_id == newDF.emp_dept_id) &\n",
    "                (oldDF.gender == newDF.gender) &\n",
    "                (oldDF.salary == newDF.salary))\n",
    "            ,\"leftanti\"))\n",
    "newData.show(truncate=False)"
   ]
  },
  {
   "cell_type": "code",
   "execution_count": 4,
   "id": "95bf9951-23fd-4d88-bab4-39b6ab0f7b3d",
   "metadata": {},
   "outputs": [
    {
     "data": {
      "text/plain": [
       "4"
      ]
     },
     "execution_count": 4,
     "metadata": {},
     "output_type": "execute_result"
    }
   ],
   "source": [
    "# ENCONTRAR ULTIMA SURROGATE KEY\n",
    "maxSK = oldDF.selectExpr(\"max(surrogate_key) as max_key\").collect()[0][\"max_key\"]\n",
    "maxSK"
   ]
  },
  {
   "cell_type": "code",
   "execution_count": 5,
   "id": "aa157437-ab1b-4d1c-9dd3-96c191456df0",
   "metadata": {},
   "outputs": [
    {
     "name": "stderr",
     "output_type": "stream",
     "text": [
      "24/06/08 11:54:42 WARN WindowExec: No Partition Defined for Window operation! Moving all data to a single partition, this can cause serious performance degradation.\n",
      "24/06/08 11:54:42 WARN WindowExec: No Partition Defined for Window operation! Moving all data to a single partition, this can cause serious performance degradation.\n",
      "24/06/08 11:54:42 WARN WindowExec: No Partition Defined for Window operation! Moving all data to a single partition, this can cause serious performance degradation.\n",
      "24/06/08 11:54:42 WARN WindowExec: No Partition Defined for Window operation! Moving all data to a single partition, this can cause serious performance degradation.\n",
      "24/06/08 11:54:42 WARN WindowExec: No Partition Defined for Window operation! Moving all data to a single partition, this can cause serious performance degradation.\n",
      "24/06/08 11:54:43 WARN WindowExec: No Partition Defined for Window operation! Moving all data to a single partition, this can cause serious performance degradation.\n",
      "24/06/08 11:54:43 WARN WindowExec: No Partition Defined for Window operation! Moving all data to a single partition, this can cause serious performance degradation.\n",
      "24/06/08 11:54:43 WARN WindowExec: No Partition Defined for Window operation! Moving all data to a single partition, this can cause serious performance degradation.\n"
     ]
    },
    {
     "name": "stdout",
     "output_type": "stream",
     "text": [
      "+------+-----+---------------+-----------+-----------+------+------+-------------+\n",
      "|emp_id| name|superior_emp_id|year_joined|emp_dept_id|gender|salary|surrogate_key|\n",
      "+------+-----+---------------+-----------+-----------+------+------+-------------+\n",
      "|     5|Brown|              2|       2010|         40|      |  5000|            5|\n",
      "|     6|Brown|              2|       2010|         50|      |  3500|            6|\n",
      "+------+-----+---------------+-----------+-----------+------+------+-------------+\n",
      "\n"
     ]
    }
   ],
   "source": [
    "# ADICIONAR SK AO NOVO DF\n",
    "windowSpec = Window.orderBy(\"emp_id\")\n",
    "\n",
    "deptDF_SK = (newData.withColumn(\"surrogate_key\", maxSK + row_number().over(windowSpec)))\n",
    "deptDF_SK.show()"
   ]
  },
  {
   "cell_type": "code",
   "execution_count": 6,
   "id": "049f205c-5e4c-40e3-979c-99f30668786c",
   "metadata": {},
   "outputs": [
    {
     "name": "stderr",
     "output_type": "stream",
     "text": [
      "24/06/08 11:54:43 WARN WindowExec: No Partition Defined for Window operation! Moving all data to a single partition, this can cause serious performance degradation.\n",
      "24/06/08 11:54:43 WARN WindowExec: No Partition Defined for Window operation! Moving all data to a single partition, this can cause serious performance degradation.\n",
      "24/06/08 11:54:43 WARN WindowExec: No Partition Defined for Window operation! Moving all data to a single partition, this can cause serious performance degradation.\n",
      "24/06/08 11:54:44 WARN WindowExec: No Partition Defined for Window operation! Moving all data to a single partition, this can cause serious performance degradation.\n",
      "24/06/08 11:54:44 WARN WindowExec: No Partition Defined for Window operation! Moving all data to a single partition, this can cause serious performance degradation.\n",
      "24/06/08 11:54:44 WARN WindowExec: No Partition Defined for Window operation! Moving all data to a single partition, this can cause serious performance degradation.\n",
      "24/06/08 11:54:44 WARN WindowExec: No Partition Defined for Window operation! Moving all data to a single partition, this can cause serious performance degradation.\n",
      "24/06/08 11:54:44 WARN WindowExec: No Partition Defined for Window operation! Moving all data to a single partition, this can cause serious performance degradation.\n"
     ]
    },
    {
     "name": "stdout",
     "output_type": "stream",
     "text": [
      "+-------------+------+--------+---------------+-----------+-----------+------+------+\n",
      "|surrogate_key|emp_id|    name|superior_emp_id|year_joined|emp_dept_id|gender|salary|\n",
      "+-------------+------+--------+---------------+-----------+-----------+------+------+\n",
      "|            1|     1|   Smith|             -1|       2018|         10|     M|  3000|\n",
      "|            2|     2|    Rose|              1|       2010|         20|     M|  4000|\n",
      "|            3|     3|Williams|              1|       2010|         10|     M|  1000|\n",
      "|            4|     4|   Jones|              2|       2005|         10|     F|  2000|\n",
      "|            5|     5|   Brown|              2|       2010|         40|      |  5000|\n",
      "|            6|     6|   Brown|              2|       2010|         50|      |  3500|\n",
      "+-------------+------+--------+---------------+-----------+-----------+------+------+\n",
      "\n"
     ]
    }
   ],
   "source": [
    "# FINAL DO PROCESSO\n",
    "finalDF = oldDF.unionByName(deptDF_SK)\n",
    "finalDF.show()"
   ]
  },
  {
   "cell_type": "markdown",
   "id": "55d6ad60-9fbb-4ea9-a301-6fb94b249691",
   "metadata": {},
   "source": [
    "INNER JOIN"
   ]
  },
  {
   "cell_type": "code",
   "execution_count": 18,
   "id": "85b2da0d-40e5-4bee-a882-555f4448e715",
   "metadata": {},
   "outputs": [
    {
     "name": "stdout",
     "output_type": "stream",
     "text": [
      "clientesDF\n",
      "+----------+--------+\n",
      "|id_cliente|name    |\n",
      "+----------+--------+\n",
      "|1         |Smith   |\n",
      "|2         |Rose    |\n",
      "|3         |Williams|\n",
      "|4         |Jones   |\n",
      "|4         |Charles |\n",
      "+----------+--------+\n",
      "\n",
      "vendasDF\n",
      "+---+----------+\n",
      "|id |id_cliente|\n",
      "+---+----------+\n",
      "|1  |4         |\n",
      "|2  |3         |\n",
      "|3  |2         |\n",
      "|4  |1         |\n",
      "+---+----------+\n",
      "\n"
     ]
    }
   ],
   "source": [
    "clientes = ([\n",
    "    (1,\"Smith\",),\n",
    "    (2,\"Rose\"),\n",
    "    (3,\"Williams\"),\n",
    "    (4,\"Jones\"),\n",
    "    (4,\"Charles\"),\n",
    "  ])\n",
    "clientesColumns = ([\"id_cliente\",\"name\"])\n",
    "\n",
    "clientesDF = spark.createDataFrame(data=clientes, schema = clientesColumns)\n",
    "# clientesDF.printSchema()\n",
    "print('clientesDF')\n",
    "clientesDF.show(truncate=False)\n",
    "\n",
    "vendas = ([\n",
    "    (1, 4),\n",
    "    (2, 3),\n",
    "    (3, 2),\n",
    "    (4, 1)\n",
    "  ])\n",
    "vendasColumns = ([\"id\",\"id_cliente\"])\n",
    "vendasDF = spark.createDataFrame(data=vendas, schema = vendasColumns)\n",
    "# vendasDF.printSchema()\n",
    "print('vendasDF')\n",
    "vendasDF.show(truncate=False)"
   ]
  },
  {
   "cell_type": "code",
   "execution_count": 19,
   "id": "fd04d7b3-4192-4d92-8450-eccb4a4208c4",
   "metadata": {},
   "outputs": [
    {
     "name": "stdout",
     "output_type": "stream",
     "text": [
      "+----------+---+--------+\n",
      "|id_cliente| id|    name|\n",
      "+----------+---+--------+\n",
      "|         1|  4|   Smith|\n",
      "|         2|  3|    Rose|\n",
      "|         3|  2|Williams|\n",
      "|         4|  1|   Jones|\n",
      "|         4|  1| Charles|\n",
      "+----------+---+--------+\n",
      "\n"
     ]
    }
   ],
   "source": [
    "joinDF = vendasDF.join(clientesDF, ['id_cliente']\n",
    "                       # , 'fullouter'\n",
    "                       , 'inner'\n",
    "                      )\n",
    "joinDF.show()"
   ]
  },
  {
   "cell_type": "code",
   "execution_count": null,
   "id": "ffff7907-f942-42d6-b5dc-90a713e0a815",
   "metadata": {},
   "outputs": [],
   "source": []
  },
  {
   "cell_type": "code",
   "execution_count": null,
   "id": "04526ddf-4a43-4351-b383-4bbe30552e00",
   "metadata": {},
   "outputs": [],
   "source": []
  },
  {
   "cell_type": "code",
   "execution_count": null,
   "id": "16b9de2c-59fe-42ca-bfad-9679a6bcbd4f",
   "metadata": {},
   "outputs": [],
   "source": []
  },
  {
   "cell_type": "code",
   "execution_count": null,
   "id": "b97943b4-1384-4de6-90f4-922bf34d86ea",
   "metadata": {},
   "outputs": [],
   "source": []
  },
  {
   "cell_type": "code",
   "execution_count": null,
   "id": "61e2a0e1-ef23-42ab-8985-b73a1bfe33de",
   "metadata": {},
   "outputs": [],
   "source": []
  },
  {
   "cell_type": "code",
   "execution_count": null,
   "id": "da48cbf4-0b1d-48c5-a29d-40496e5e3b02",
   "metadata": {},
   "outputs": [],
   "source": []
  },
  {
   "cell_type": "code",
   "execution_count": null,
   "id": "8ed1596b-543c-4ed7-b172-6a1b00aa2816",
   "metadata": {},
   "outputs": [],
   "source": []
  }
 ],
 "metadata": {
  "kernelspec": {
   "display_name": "Python 3 (ipykernel)",
   "language": "python",
   "name": "python3"
  },
  "language_info": {
   "codemirror_mode": {
    "name": "ipython",
    "version": 3
   },
   "file_extension": ".py",
   "mimetype": "text/x-python",
   "name": "python",
   "nbconvert_exporter": "python",
   "pygments_lexer": "ipython3",
   "version": "3.10.12"
  }
 },
 "nbformat": 4,
 "nbformat_minor": 5
}
