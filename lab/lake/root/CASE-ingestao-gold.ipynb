{
 "cells": [
  {
   "cell_type": "code",
   "execution_count": 1,
   "id": "dc65ddee-7a84-4c89-a4c2-911387d270d2",
   "metadata": {},
   "outputs": [],
   "source": [
    "import findspark, datetime, pytz\n",
    "from pyspark.sql import SparkSession\n",
    "from pyspark.sql.window import Window\n",
    "from pyspark.sql import functions as F"
   ]
  },
  {
   "cell_type": "code",
   "execution_count": 2,
   "id": "6df868a9-75b0-4765-983f-7716e55503ec",
   "metadata": {},
   "outputs": [],
   "source": [
    "agora = datetime.datetime.now(pytz.timezone('America/Sao_paulo'))\n",
    "strSilverPath = f'./LAKE/SILVER/loja_simulada-vendas'\n",
    "strGoldPath = f'./LAKE/GOLD/loja_simulada-vendas'"
   ]
  },
  {
   "cell_type": "code",
   "execution_count": 3,
   "id": "f549c76c-0d14-4d8a-a7cf-63c1e8b1d592",
   "metadata": {
    "scrolled": true
   },
   "outputs": [
    {
     "name": "stderr",
     "output_type": "stream",
     "text": [
      "Warning: Ignoring non-Spark config property: packages\n",
      "24/06/09 12:02:21 WARN Utils: Your hostname, cj resolves to a loopback address: 127.0.1.1; using 192.168.15.34 instead (on interface enp2s0)\n",
      "24/06/09 12:02:21 WARN Utils: Set SPARK_LOCAL_IP if you need to bind to another address\n",
      "Setting default log level to \"WARN\".\n",
      "To adjust logging level use sc.setLogLevel(newLevel). For SparkR, use setLogLevel(newLevel).\n",
      "24/06/09 12:02:21 WARN NativeCodeLoader: Unable to load native-hadoop library for your platform... using builtin-java classes where applicable\n",
      "24/06/09 12:02:22 WARN Utils: Service 'SparkUI' could not bind on port 4040. Attempting port 4041.\n"
     ]
    }
   ],
   "source": [
    "# Create SparkSession\n",
    "spark = (SparkSession.builder\n",
    "           .appName('IngestaoGold')\n",
    "           .config(\"packages\", \"org.apache.spark:mysql-connector-java-8.0.13.jar\")\n",
    "           .getOrCreate()\n",
    "        )"
   ]
  },
  {
   "cell_type": "code",
   "execution_count": 4,
   "id": "577d110e-c0f2-4e4e-abde-2fae90c20f34",
   "metadata": {},
   "outputs": [],
   "source": [
    "def pegarSilverAtual(tabela):\n",
    "    try:\n",
    "        tempDF = (spark.read.parquet(f'{strSilverPath}-{tabela}')).cache()\n",
    "        print(f'Base SILVER \"{tabela}\" encontrada')\n",
    "        return tempDF\n",
    "    except Exception as e:\n",
    "        print(f'Base SILVER \"{tabela}\" não encontrada\\n', e)\n",
    "        return None"
   ]
  },
  {
   "cell_type": "code",
   "execution_count": 5,
   "id": "612f33d0-2aaf-43d9-bb59-f17fda737331",
   "metadata": {},
   "outputs": [],
   "source": [
    "def pegarGoldAtual(tabela):\n",
    "    try:\n",
    "        tempDF = (spark.read.parquet(f'{strGoldPath}-{tabela}')).cache()\n",
    "        print(f'Base GOLD \"{tabela}\" encontrada')\n",
    "        return tempDF\n",
    "    except Exception as e:\n",
    "        print(f'Base GOLD \"{tabela}\" não encontrada\\n', e)\n",
    "        return None"
   ]
  },
  {
   "cell_type": "code",
   "execution_count": 6,
   "id": "2af52de5-4255-4d47-a3e3-5fb9b541a7f5",
   "metadata": {},
   "outputs": [],
   "source": [
    "def enviarAlerta(tipoAlerta, mensagem):\n",
    "    print(F'Encaminhando alerta de {tipoAlerta}')\n",
    "    print(f'{tipoAlerta} - type: {type(mensagem)} - Mensagem:', mensagem)\n",
    "    return"
   ]
  },
  {
   "cell_type": "code",
   "execution_count": 7,
   "id": "58af7186-16b1-4113-be94-98147c0aaae9",
   "metadata": {},
   "outputs": [],
   "source": [
    "def salvarDadosDoDF(df,pathFile):\n",
    "    return df.write.mode(\"overwrite\").parquet(pathFile)"
   ]
  },
  {
   "cell_type": "code",
   "execution_count": 8,
   "id": "d34d588b-33b5-4809-90ad-9715b8ed01f9",
   "metadata": {},
   "outputs": [],
   "source": [
    "# DIMENSAO TEMPO\n",
    "def tempo():\n",
    "    tabela = 'dimensao_tempo'\n",
    "    goldDF = pegarGoldAtual(tabela)\n",
    "    if goldDF != None:\n",
    "        enviarAlerta('Informacao', f'{tabela} MAX DATA: \"{goldDF.select(F.max(\"data\").alias(\"MAX_DATA\")).collect()[0][\"MAX_DATA\"]}\"')\n",
    "        return\n",
    "    refDF = spark.createDataFrame([(1,)], ['id', ])\n",
    "    windowSpec = Window.orderBy(\"data\")\n",
    "    tempoDF = (refDF\n",
    "        # .withColumn('data', F.explode(F.expr(\"sequence(to_date('2024-06-01'), to_date('2024-06-10'), interval 1 day)\")))\n",
    "        .withColumn('data', F.explode(F.expr(\"sequence(to_date('2010-01-01'), to_date('2030-12-31'), interval 1 day)\")))\n",
    "        .withColumn('dia', F.day(F.col('data')))\n",
    "        .withColumn('mes', F.month(F.col('data')))\n",
    "        .withColumn('ano', F.year(F.col('data')))\n",
    "        .withColumn('dia_semana', F.weekday(F.col('data')))  # 0 - 6 => segunda - domingo\n",
    "        .withColumn('trimestre', F.quarter(F.col('data')))\n",
    "        .withColumn(\"chave_tempo\", F.row_number().over(windowSpec))\n",
    "        .drop('id')\n",
    "    )\n",
    "    salvarDadosDoDF(tempoDF, f'{strGoldPath}-{tabela}')\n",
    "    enviarAlerta('Informacao',\n",
    "        f'{tabela} criada com MAX DATA: \"{tempoDF.select(F.max(\"data\").alias(\"MAX_DATA\")).collect()[0][\"MAX_DATA\"]}\"')\n",
    "    return"
   ]
  },
  {
   "cell_type": "code",
   "execution_count": 9,
   "id": "dcd2c120-d508-4336-b019-8ca97e43278f",
   "metadata": {},
   "outputs": [],
   "source": [
    "# DIMENSAO CLIENTE\n",
    "def cliente():\n",
    "    tabela = 'dimensao_cliente'\n",
    "    silverDF = pegarSilverAtual('clientes')\n",
    "    if silverDF == None:\n",
    "        enviarAlerta('Informacao', f'Ingestão SILVER - GOLD base \"{tabela}\" interrompida, base SILVER não encontrada')\n",
    "        return\n",
    "    goldDF = (silverDF\n",
    "        .select(F.col('surrogate_key').alias('chave_cliente'),'id_cliente','cliente','estado','origem_racial','sexo','status')\n",
    "        .withColumn(\"data_carga\", F.lit(agora.strftime(\"%Y-%m-%d\")).cast('date'))\n",
    "     )\n",
    "    salvarDadosDoDF(goldDF, f'{strGoldPath}-{tabela}')\n",
    "    enviarAlerta('Informacao',\n",
    "        f'Registros a serem salvos em \"{tabela}\": {goldDF.select(F.count(\"*\").alias(\"QTD\")).collect()[0][\"QTD\"]}')\n",
    "    return"
   ]
  },
  {
   "cell_type": "code",
   "execution_count": 10,
   "id": "a6bf8a64-cefb-494d-84e7-f0f0edc77df2",
   "metadata": {},
   "outputs": [],
   "source": [
    "# DIMENSAO VENDEDOR\n",
    "def vendedor():\n",
    "    tabela = 'dimensao_vendedor'\n",
    "    silverDF = pegarSilverAtual('vendedores')\n",
    "    if silverDF == None:\n",
    "        enviarAlerta('Informacao', f'Ingestão SILVER - GOLD base \"{tabela}\" interrompida, base SILVER não encontrada')\n",
    "        return\n",
    "    goldDF = (silverDF\n",
    "        .select(F.col('surrogate_key').alias('chave_vendedor'),'id_vendedor','nome')\n",
    "        .withColumn(\"data_carga\", F.lit(agora.strftime(\"%Y-%m-%d\")).cast('date'))\n",
    "     )\n",
    "    salvarDadosDoDF(goldDF, f'{strGoldPath}-{tabela}')\n",
    "    enviarAlerta('Informacao',\n",
    "        f'Registros a serem salvos em \"{tabela}\": {goldDF.select(F.count(\"*\").alias(\"QTD\")).collect()[0][\"QTD\"]}')\n",
    "    return"
   ]
  },
  {
   "cell_type": "code",
   "execution_count": 11,
   "id": "9a7c75fc-6d94-4156-9342-2f27815a2c71",
   "metadata": {},
   "outputs": [],
   "source": [
    "# DIMENSAO PRODUTO\n",
    "def produto():\n",
    "    tabela = 'dimensao_produto'\n",
    "    silverDF = pegarSilverAtual('produtos')\n",
    "    if silverDF == None:\n",
    "        enviarAlerta('Informacao', f'Ingestão SILVER - GOLD base \"{tabela}\" interrompida, base SILVER não encontrada')\n",
    "        return\n",
    "    goldDF = (silverDF\n",
    "        .select(F.col('surrogate_key').alias('chave_produto'),'id_produto','produto'\n",
    "            ,F.col('data_carga').alias('data_ref'))\n",
    "        .withColumn(\"data_carga\", F.lit(agora.strftime(\"%Y-%m-%d\")).cast('date'))\n",
    "     )\n",
    "    salvarDadosDoDF(goldDF, f'{strGoldPath}-{tabela}')\n",
    "    enviarAlerta('Informacao',\n",
    "        f'Registros a serem salvos em \"{tabela}\": {goldDF.select(F.count(\"*\").alias(\"QTD\")).collect()[0][\"QTD\"]}')\n",
    "    return"
   ]
  },
  {
   "cell_type": "code",
   "execution_count": 12,
   "id": "4a5cf221-8889-4729-bfd4-b022fef671ca",
   "metadata": {},
   "outputs": [
    {
     "name": "stdout",
     "output_type": "stream",
     "text": [
      "Base SILVER \"vendas\" encontrada\n",
      "Base SILVER \"itens_venda\" encontrada\n",
      "Base GOLD \"dimensao_cliente\" encontrada\n",
      "Base GOLD \"dimensao_vendedor\" encontrada\n",
      "Base GOLD \"dimensao_produto\" encontrada\n",
      "Base GOLD \"dimensao_tempo\" encontrada\n"
     ]
    },
    {
     "name": "stderr",
     "output_type": "stream",
     "text": [
      "24/06/09 12:02:27 WARN WindowExec: No Partition Defined for Window operation! Moving all data to a single partition, this can cause serious performance degradation.\n",
      "24/06/09 12:02:27 WARN WindowExec: No Partition Defined for Window operation! Moving all data to a single partition, this can cause serious performance degradation.\n",
      "24/06/09 12:02:27 WARN WindowExec: No Partition Defined for Window operation! Moving all data to a single partition, this can cause serious performance degradation.\n",
      "24/06/09 12:02:28 WARN WindowExec: No Partition Defined for Window operation! Moving all data to a single partition, this can cause serious performance degradation.\n",
      "24/06/09 12:02:28 WARN WindowExec: No Partition Defined for Window operation! Moving all data to a single partition, this can cause serious performance degradation.\n",
      "24/06/09 12:02:29 WARN WindowExec: No Partition Defined for Window operation! Moving all data to a single partition, this can cause serious performance degradation.\n",
      "24/06/09 12:02:29 WARN WindowExec: No Partition Defined for Window operation! Moving all data to a single partition, this can cause serious performance degradation.\n",
      "24/06/09 12:02:29 WARN WindowExec: No Partition Defined for Window operation! Moving all data to a single partition, this can cause serious performance degradation.\n",
      "24/06/09 12:02:29 WARN WindowExec: No Partition Defined for Window operation! Moving all data to a single partition, this can cause serious performance degradation.\n",
      "24/06/09 12:02:29 WARN WindowExec: No Partition Defined for Window operation! Moving all data to a single partition, this can cause serious performance degradation.\n",
      "24/06/09 12:02:29 WARN WindowExec: No Partition Defined for Window operation! Moving all data to a single partition, this can cause serious performance degradation.\n",
      "24/06/09 12:02:29 WARN WindowExec: No Partition Defined for Window operation! Moving all data to a single partition, this can cause serious performance degradation.\n",
      "24/06/09 12:02:29 WARN WindowExec: No Partition Defined for Window operation! Moving all data to a single partition, this can cause serious performance degradation.\n",
      "24/06/09 12:02:29 WARN WindowExec: No Partition Defined for Window operation! Moving all data to a single partition, this can cause serious performance degradation.\n",
      "24/06/09 12:02:29 WARN WindowExec: No Partition Defined for Window operation! Moving all data to a single partition, this can cause serious performance degradation.\n",
      "24/06/09 12:02:29 WARN WindowExec: No Partition Defined for Window operation! Moving all data to a single partition, this can cause serious performance degradation.\n",
      "24/06/09 12:02:29 WARN WindowExec: No Partition Defined for Window operation! Moving all data to a single partition, this can cause serious performance degradation.\n",
      "24/06/09 12:02:29 WARN WindowExec: No Partition Defined for Window operation! Moving all data to a single partition, this can cause serious performance degradation.\n",
      "24/06/09 12:02:29 WARN WindowExec: No Partition Defined for Window operation! Moving all data to a single partition, this can cause serious performance degradation.\n",
      "24/06/09 12:02:29 WARN WindowExec: No Partition Defined for Window operation! Moving all data to a single partition, this can cause serious performance degradation.\n",
      "24/06/09 12:02:29 WARN WindowExec: No Partition Defined for Window operation! Moving all data to a single partition, this can cause serious performance degradation.\n",
      "24/06/09 12:02:30 WARN WindowExec: No Partition Defined for Window operation! Moving all data to a single partition, this can cause serious performance degradation.\n",
      "24/06/09 12:02:30 WARN WindowExec: No Partition Defined for Window operation! Moving all data to a single partition, this can cause serious performance degradation.\n",
      "                                                                                \r"
     ]
    },
    {
     "name": "stdout",
     "output_type": "stream",
     "text": [
      "Encaminhando alerta de Informacao\n",
      "Informacao - type: <class 'str'> - Mensagem: Registros a serem salvos em \"fato_venda\": 72633\n"
     ]
    }
   ],
   "source": [
    "# FATO VENDA\n",
    "def venda():\n",
    "    tabela = 'fato_venda'\n",
    "    silverVendasDF = pegarSilverAtual('vendas')\n",
    "    silverItens_vendasDF = pegarSilverAtual('itens_venda')\n",
    "    goldClientesDF = pegarGoldAtual('dimensao_cliente')\n",
    "    goldVendedoresDF = pegarGoldAtual('dimensao_vendedor')\n",
    "    goldProdutosDF = pegarGoldAtual('dimensao_produto')\n",
    "    goldTempoDF = pegarGoldAtual('dimensao_tempo')\n",
    "    if silverVendasDF == None:\n",
    "        enviarAlerta('Informacao', f'Ingestão SILVER - GOLD base \"vendas\" interrompida, base SILVER não encontrada')\n",
    "        return\n",
    "    if silverItens_vendasDF == None:\n",
    "        enviarAlerta('Informacao', f'Ingestão SILVER - GOLD base \"itens_vendas\" interrompida, base SILVER não encontrada')\n",
    "        return\n",
    "    if goldClientesDF == None:\n",
    "        enviarAlerta('Informacao', f'Ingestão SILVER - GOLD base \"dimensao_cliente\" interrompida, base SILVER não encontrada')\n",
    "        return\n",
    "    if goldVendedoresDF == None:\n",
    "        enviarAlerta('Informacao', f'Ingestão SILVER - GOLD base \"dimensao_vendedor\" interrompida, base SILVER não encontrada')\n",
    "        return\n",
    "    if goldProdutosDF == None:\n",
    "        enviarAlerta('Informacao', f'Ingestão SILVER - GOLD base \"dimensao_produto\" interrompida, base SILVER não encontrada')\n",
    "        return\n",
    "    if goldTempoDF == None:\n",
    "        enviarAlerta('Informacao', f'Ingestão SILVER - GOLD base \"tempo\" interrompida, base SILVER não encontrada')\n",
    "        return\n",
    "    goldBaseDF = (silverVendasDF\n",
    "        .join(silverItens_vendasDF, silverVendasDF.id_venda == silverItens_vendasDF.id_venda, 'fullouter')\n",
    "        .select(silverVendasDF.id_venda, silverVendasDF.id_vendedor,silverVendasDF.id_cliente, silverVendasDF.data_venda\n",
    "                ,silverItens_vendasDF.id_produto,silverItens_vendasDF.quantidade,silverItens_vendasDF.valor_unitario\n",
    "                ,silverItens_vendasDF.valor_total,silverItens_vendasDF.desconto)\n",
    "         )\n",
    "    gold1DF = (goldBaseDF\n",
    "        .join(goldClientesDF,((goldBaseDF.id_cliente == goldClientesDF.id_cliente)), 'inner')\n",
    "        .select(goldBaseDF.id_venda,goldBaseDF.id_vendedor,goldBaseDF.data_venda,goldBaseDF.id_produto\n",
    "            ,goldClientesDF.chave_cliente,goldBaseDF.quantidade,goldBaseDF.valor_unitario,goldBaseDF.valor_total\n",
    "            ,goldBaseDF.desconto)\n",
    "         )\n",
    "    gold2DF = (gold1DF\n",
    "        .join(goldProdutosDF,((gold1DF.id_produto == goldProdutosDF.id_produto)), 'inner')\n",
    "        .select(gold1DF.id_venda, gold1DF.id_vendedor, gold1DF.data_venda, goldProdutosDF.chave_produto\n",
    "            ,gold1DF.chave_cliente, gold1DF.quantidade, gold1DF.valor_unitario, gold1DF.valor_total\n",
    "            ,gold1DF.desconto, goldProdutosDF.id_produto)\n",
    "        )\n",
    "    gold3DF = (gold2DF\n",
    "        .join(goldVendedoresDF,((gold2DF.id_vendedor == goldVendedoresDF.id_vendedor)), 'inner')\n",
    "        .select(gold2DF.id_venda,gold2DF.chave_produto,goldVendedoresDF.chave_vendedor,gold2DF.chave_cliente\n",
    "            ,gold2DF.data_venda,gold2DF.quantidade,gold2DF.valor_unitario,gold2DF.valor_total\n",
    "            ,gold2DF.desconto)\n",
    "        )\n",
    "    gold4DF = (gold3DF\n",
    "        .join(goldTempoDF,gold3DF.data_venda == goldTempoDF.data, 'inner')\n",
    "        .select(gold3DF.id_venda,gold3DF.chave_produto,goldVendedoresDF.chave_vendedor,gold3DF.chave_cliente\n",
    "            ,goldTempoDF.chave_tempo,gold3DF.quantidade,gold3DF.valor_unitario,gold3DF.valor_total\n",
    "            ,gold3DF.desconto)\n",
    "        )\n",
    "    windowSpec = Window.orderBy(\"id_venda\")        \n",
    "    gold5DF = (gold4DF.withColumn(\"chave_vendas\", F.row_number().over(windowSpec))\n",
    "                .drop('id_venda')\n",
    "                .withColumn(\"data_carga\", F.lit(agora.strftime(\"%Y-%m-%d\")).cast('date'))\n",
    "              )\n",
    "    salvarDadosDoDF(gold5DF, f'{strGoldPath}-{tabela}')\n",
    "    enviarAlerta('Informacao',\n",
    "        f'Registros a serem salvos em \"{tabela}\": {gold5DF.select(F.count(\"*\").alias(\"QTD\")).collect()[0][\"QTD\"]}')\n",
    "    return\n",
    "\n",
    "venda()"
   ]
  },
  {
   "cell_type": "code",
   "execution_count": 13,
   "id": "afcb7643-76ef-4e54-af04-a7a6fd42f491",
   "metadata": {},
   "outputs": [],
   "source": [
    "def executar():\n",
    "    tempo()\n",
    "    cliente()\n",
    "    vendedor()\n",
    "    produto()\n",
    "    venda()\n",
    "    return"
   ]
  },
  {
   "cell_type": "code",
   "execution_count": 14,
   "id": "1d401a0b-2f29-4edb-bd1f-ba8e65b6d995",
   "metadata": {},
   "outputs": [],
   "source": [
    "def main():\n",
    "    try:\n",
    "        enviarAlerta('Informacao', 'Ingestão para base GOLD iniciada...')\n",
    "        executar()\n",
    "        enviarAlerta('Informacao', 'Ingestão para base GOLD concluída com SUCESSO!!!')\n",
    "    except Exception as e:\n",
    "        enviarAlerta('Erro', e)\n",
    "    finally:\n",
    "        spark.stop()\n",
    "        print('conexão spark finalizada!')"
   ]
  },
  {
   "cell_type": "code",
   "execution_count": 15,
   "id": "d66e19b9-1ad4-412c-a3fd-95a42d8ea64d",
   "metadata": {},
   "outputs": [
    {
     "name": "stdout",
     "output_type": "stream",
     "text": [
      "Encaminhando alerta de Informacao\n",
      "Informacao - type: <class 'str'> - Mensagem: Ingestão para base GOLD iniciada...\n",
      "Base GOLD \"dimensao_tempo\" encontrada\n"
     ]
    },
    {
     "name": "stderr",
     "output_type": "stream",
     "text": [
      "24/06/09 12:02:32 WARN CacheManager: Asked to cache already cached data.\n"
     ]
    },
    {
     "name": "stdout",
     "output_type": "stream",
     "text": [
      "Encaminhando alerta de Informacao\n",
      "Informacao - type: <class 'str'> - Mensagem: dimensao_tempo MAX DATA: \"2030-12-31\"\n",
      "Base SILVER \"clientes\" encontrada\n",
      "Encaminhando alerta de Informacao\n",
      "Informacao - type: <class 'str'> - Mensagem: Registros a serem salvos em \"dimensao_cliente\": 530\n",
      "Base SILVER \"vendedores\" encontrada\n",
      "Encaminhando alerta de Informacao\n",
      "Informacao - type: <class 'str'> - Mensagem: Registros a serem salvos em \"dimensao_vendedor\": 36\n",
      "Base SILVER \"produtos\" encontrada\n",
      "Encaminhando alerta de Informacao\n",
      "Informacao - type: <class 'str'> - Mensagem: Registros a serem salvos em \"dimensao_produto\": 14\n",
      "Base SILVER \"vendas\" encontrada\n",
      "Base SILVER \"itens_venda\" encontrada\n",
      "Base GOLD \"dimensao_cliente\" encontrada\n"
     ]
    },
    {
     "name": "stderr",
     "output_type": "stream",
     "text": [
      "24/06/09 12:02:34 WARN CacheManager: Asked to cache already cached data.\n",
      "24/06/09 12:02:34 WARN CacheManager: Asked to cache already cached data.\n",
      "24/06/09 12:02:34 WARN CacheManager: Asked to cache already cached data.\n",
      "24/06/09 12:02:34 WARN CacheManager: Asked to cache already cached data.\n",
      "24/06/09 12:02:34 WARN CacheManager: Asked to cache already cached data.\n",
      "24/06/09 12:02:34 WARN CacheManager: Asked to cache already cached data.\n"
     ]
    },
    {
     "name": "stdout",
     "output_type": "stream",
     "text": [
      "Base GOLD \"dimensao_vendedor\" encontrada\n",
      "Base GOLD \"dimensao_produto\" encontrada\n",
      "Base GOLD \"dimensao_tempo\" encontrada\n"
     ]
    },
    {
     "name": "stderr",
     "output_type": "stream",
     "text": [
      "24/06/09 12:02:35 WARN WindowExec: No Partition Defined for Window operation! Moving all data to a single partition, this can cause serious performance degradation.\n",
      "24/06/09 12:02:35 WARN WindowExec: No Partition Defined for Window operation! Moving all data to a single partition, this can cause serious performance degradation.\n",
      "24/06/09 12:02:35 WARN WindowExec: No Partition Defined for Window operation! Moving all data to a single partition, this can cause serious performance degradation.\n",
      "24/06/09 12:02:35 WARN WindowExec: No Partition Defined for Window operation! Moving all data to a single partition, this can cause serious performance degradation.\n",
      "24/06/09 12:02:35 WARN WindowExec: No Partition Defined for Window operation! Moving all data to a single partition, this can cause serious performance degradation.\n",
      "24/06/09 12:02:35 WARN WindowExec: No Partition Defined for Window operation! Moving all data to a single partition, this can cause serious performance degradation.\n",
      "24/06/09 12:02:35 WARN WindowExec: No Partition Defined for Window operation! Moving all data to a single partition, this can cause serious performance degradation.\n",
      "24/06/09 12:02:35 WARN WindowExec: No Partition Defined for Window operation! Moving all data to a single partition, this can cause serious performance degradation.\n",
      "24/06/09 12:02:35 WARN WindowExec: No Partition Defined for Window operation! Moving all data to a single partition, this can cause serious performance degradation.\n",
      "24/06/09 12:02:35 WARN WindowExec: No Partition Defined for Window operation! Moving all data to a single partition, this can cause serious performance degradation.\n",
      "24/06/09 12:02:35 WARN WindowExec: No Partition Defined for Window operation! Moving all data to a single partition, this can cause serious performance degradation.\n",
      "24/06/09 12:02:35 WARN WindowExec: No Partition Defined for Window operation! Moving all data to a single partition, this can cause serious performance degradation.\n",
      "24/06/09 12:02:35 WARN WindowExec: No Partition Defined for Window operation! Moving all data to a single partition, this can cause serious performance degradation.\n",
      "24/06/09 12:02:35 WARN WindowExec: No Partition Defined for Window operation! Moving all data to a single partition, this can cause serious performance degradation.\n",
      "24/06/09 12:02:35 WARN WindowExec: No Partition Defined for Window operation! Moving all data to a single partition, this can cause serious performance degradation.\n",
      "24/06/09 12:02:35 WARN WindowExec: No Partition Defined for Window operation! Moving all data to a single partition, this can cause serious performance degradation.\n",
      "24/06/09 12:02:35 WARN WindowExec: No Partition Defined for Window operation! Moving all data to a single partition, this can cause serious performance degradation.\n",
      "24/06/09 12:02:35 WARN WindowExec: No Partition Defined for Window operation! Moving all data to a single partition, this can cause serious performance degradation.\n",
      "24/06/09 12:02:35 WARN WindowExec: No Partition Defined for Window operation! Moving all data to a single partition, this can cause serious performance degradation.\n"
     ]
    },
    {
     "name": "stdout",
     "output_type": "stream",
     "text": [
      "Encaminhando alerta de Informacao\n",
      "Informacao - type: <class 'str'> - Mensagem: Registros a serem salvos em \"fato_venda\": 72633\n",
      "Encaminhando alerta de Informacao\n",
      "Informacao - type: <class 'str'> - Mensagem: Ingestão para base GOLD concluída com SUCESSO!!!\n",
      "conexão spark finalizada!\n"
     ]
    }
   ],
   "source": [
    "main()"
   ]
  },
  {
   "cell_type": "markdown",
   "id": "b7facedb-75cc-41e7-b981-65746170a348",
   "metadata": {},
   "source": [
    "***"
   ]
  }
 ],
 "metadata": {
  "kernelspec": {
   "display_name": "Python 3 (ipykernel)",
   "language": "python",
   "name": "python3"
  },
  "language_info": {
   "codemirror_mode": {
    "name": "ipython",
    "version": 3
   },
   "file_extension": ".py",
   "mimetype": "text/x-python",
   "name": "python",
   "nbconvert_exporter": "python",
   "pygments_lexer": "ipython3",
   "version": "3.10.12"
  }
 },
 "nbformat": 4,
 "nbformat_minor": 5
}
