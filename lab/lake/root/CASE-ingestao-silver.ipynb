{
 "cells": [
  {
   "cell_type": "code",
   "execution_count": 1,
   "id": "dc65ddee-7a84-4c89-a4c2-911387d270d2",
   "metadata": {},
   "outputs": [],
   "source": [
    "import findspark, datetime, pytz\n",
    "from pyspark.sql import SparkSession\n",
    "from pyspark.sql.window import Window\n",
    "from pyspark.sql.functions import lit,substring,concat,col,aes_encrypt,aes_decrypt,base64,unbase64,count"
   ]
  },
  {
   "cell_type": "code",
   "execution_count": 2,
   "id": "6df868a9-75b0-4765-983f-7716e55503ec",
   "metadata": {},
   "outputs": [],
   "source": [
    "agora = datetime.datetime.now(pytz.timezone('America/Sao_paulo'))\n",
    "chave_crypt = 'minhachavede128b'\n",
    "strBronzePath = f'../BRONZE/loja_simulada-vendas'\n",
    "strSilverPath = f'../SILVER/loja_simulada-vendas'"
   ]
  },
  {
   "cell_type": "code",
   "execution_count": 3,
   "id": "f549c76c-0d14-4d8a-a7cf-63c1e8b1d592",
   "metadata": {
    "scrolled": true
   },
   "outputs": [
    {
     "name": "stderr",
     "output_type": "stream",
     "text": [
      "Warning: Ignoring non-Spark config property: packages\n",
      "24/06/14 23:28:24 WARN Utils: Your hostname, cj resolves to a loopback address: 127.0.1.1; using 192.168.15.34 instead (on interface enp2s0)\n",
      "24/06/14 23:28:24 WARN Utils: Set SPARK_LOCAL_IP if you need to bind to another address\n",
      "Setting default log level to \"WARN\".\n",
      "To adjust logging level use sc.setLogLevel(newLevel). For SparkR, use setLogLevel(newLevel).\n",
      "24/06/14 23:28:25 WARN NativeCodeLoader: Unable to load native-hadoop library for your platform... using builtin-java classes where applicable\n",
      "24/06/14 23:28:26 WARN Utils: Service 'SparkUI' could not bind on port 4040. Attempting port 4041.\n",
      "24/06/14 23:28:26 WARN Utils: Service 'SparkUI' could not bind on port 4041. Attempting port 4042.\n"
     ]
    }
   ],
   "source": [
    "# Create SparkSession\n",
    "spark = (SparkSession.builder\n",
    "           .appName('IngestaoSilver')\n",
    "           .config(\"packages\", \"org.apache.spark:mysql-connector-java-8.0.13.jar\")\n",
    "           .getOrCreate()\n",
    "        )"
   ]
  },
  {
   "cell_type": "code",
   "execution_count": 4,
   "id": "a24ebfa5-8dbe-4b5b-8e3f-0f446ebb3b9f",
   "metadata": {},
   "outputs": [],
   "source": [
    "def pegarSilverAtual(tabela):\n",
    "    try:\n",
    "        tempDF = (spark.read.parquet(f'{strSilverPath}-{tabela}')).cache()\n",
    "        print(f'Base SILVER \"{tabela}\" encontrada')\n",
    "        return tempDF\n",
    "    except Exception as e:\n",
    "        print(f'Base SILVER \"{tabela}\" não encontrada\\n', e)\n",
    "        return None"
   ]
  },
  {
   "cell_type": "code",
   "execution_count": 5,
   "id": "11681b80-ef74-42e1-a5cf-d49e2503533a",
   "metadata": {},
   "outputs": [],
   "source": [
    "def pegarBronzeAtual(tabela):\n",
    "    try:\n",
    "        tempDF = (spark.read.parquet(f'{strBronzePath}-{tabela}')).cache()\n",
    "        print(f'Base BRONZE \"{tabela}\" encontrada')\n",
    "        return tempDF\n",
    "    except Exception as e:\n",
    "        print(f'Base BRONZE \"{tabela}\" não encontrada\\n', e)\n",
    "        return None"
   ]
  },
  {
   "cell_type": "code",
   "execution_count": 6,
   "id": "311620c8-471b-4abb-8b9b-aa7472eea0dc",
   "metadata": {},
   "outputs": [],
   "source": [
    "def enviarAlerta(tipoAlerta, mensagem):\n",
    "    print(F'Encaminhando alerta de {tipoAlerta}')\n",
    "    print(f'{tipoAlerta} - type: {type(mensagem)} - Mensagem:', mensagem)\n",
    "    return"
   ]
  },
  {
   "cell_type": "code",
   "execution_count": 7,
   "id": "e38560be-104a-4ba4-9cfd-9e83492b7308",
   "metadata": {},
   "outputs": [],
   "source": [
    "def salvarDadosDoDF(df,pathFile):\n",
    "    return df.write.mode(\"overwrite\").parquet(pathFile)"
   ]
  },
  {
   "cell_type": "code",
   "execution_count": 8,
   "id": "c5d8bec8-aefb-4d7e-8055-2944e333a262",
   "metadata": {},
   "outputs": [],
   "source": [
    "# TABELA CLIENTES\n",
    "def clientes():\n",
    "    tabela = 'clientes'\n",
    "    bronzeDF = pegarBronzeAtual(tabela)\n",
    "    if bronzeDF == None:\n",
    "        enviarAlerta('Atencao', f'Ingestão BRONZE - SILVER base \"{tabela}\" interrompida, base BRONZE não encontrada')\n",
    "        return\n",
    "    enviarAlerta('Informacao', f'COUNT bronze {tabela}: {bronzeDF.select(count(\"*\").alias(\"QTD\")).collect()[0][\"QTD\"]}')\n",
    "    silverDF = (bronzeDF\n",
    "        .select('surrogate_key', 'id_cliente'\n",
    "            # mantendo apenas os dígitos menos significativos do CPF\n",
    "            , concat(lit('***'), substring('cpf', 4, 6), lit('**-**')).alias('cpf')\n",
    "            # criptografia no nome do cliente\n",
    "            , base64(aes_encrypt('cliente', lit(chave_crypt), lit('ECB'), lit('PKCS'))).alias('cliente')\n",
    "            # , 'telefone', 'email'     # dados omitidos para a camada de destino em questão\n",
    "            , 'estado', 'origem_racial', 'sexo', 'status')\n",
    "        .withColumn(\"data_carga\", lit(agora.strftime(\"%Y-%m-%d\")).cast('date'))\n",
    "    )\n",
    "    silverAtual = pegarSilverAtual(tabela)\n",
    "    if silverAtual == None:\n",
    "        salvarDadosDoDF(silverDF, f'{strSilverPath}-{tabela}')\n",
    "        enviarAlerta('Informacao',\n",
    "            f'Registros a serem salvos: {silverDF.select(count(\"*\").alias(\"QTD\")).collect()[0][\"QTD\"]}')\n",
    "    else:\n",
    "        silverBothDF = silverAtual.unionByName(silverDF).distinct()\n",
    "        salvarDadosDoDF(silverBothDF, f'{strSilverPath}-{tabela}')\n",
    "        enviarAlerta('Informacao',\n",
    "            f'Registros a serem salvos: {silverBothDF.select(count(\"*\").alias(\"QTD\")).collect()[0][\"QTD\"]}')\n",
    "    # # TESTE DESCRIPTOGRAFIA - INICIO\n",
    "    #     bronzeDF.select('cliente').show(2)\n",
    "    #     silverDF.select('cliente').show(2)\n",
    "    #     clientes_silver_df_decript = (silverDF\n",
    "    #         .select(aes_decrypt(unbase64('cliente'),lit(chave_crypt),lit('ECB'),lit('PKCS')).cast('string').alias('descriptado'))\n",
    "    #     )\n",
    "    #     bronzeDF.select('cliente').show(2)\n",
    "    # # TESTE DESCRIPTOGRAFIA - FIM\n",
    "    return"
   ]
  },
  {
   "cell_type": "code",
   "execution_count": 9,
   "id": "08459273-684e-4842-bedb-b1c13104d1a5",
   "metadata": {},
   "outputs": [],
   "source": [
    "# TABELA VENDEDORES\n",
    "def vendedores():\n",
    "    tabela = 'vendedores'\n",
    "    bronzeDF = pegarBronzeAtual(tabela)\n",
    "    if bronzeDF == None:\n",
    "        enviarAlerta('Atencao', f'Ingestão BRONZE - SILVER base \"{tabela}\" interrompida, base BRONZE não encontrada')\n",
    "        return\n",
    "    enviarAlerta('Informacao', f'COUNT bronze {tabela}: {bronzeDF.select(count(\"*\").alias(\"QTD\")).collect()[0][\"QTD\"]}')\n",
    "    silverDF = (bronzeDF #.select('*').where(col('id_vendedor') < 10)  # TODO inserida para teste, retirar\n",
    "        .select('surrogate_key', 'id_vendedor'\n",
    "            # mantendo apenas os dígitos menos significativos do CPF\n",
    "            , concat(lit('***'), substring('cpf', 4, 6), lit('**-**')).alias('cpf')\n",
    "            # criptografia no nome do vendedor\n",
    "            , base64(aes_encrypt('nome', lit(chave_crypt), lit('ECB'), lit('PKCS'))).alias('nome'))\n",
    "            # ,'telefone','email'     # dados omitidos para a camada de destino em questão            \n",
    "        .withColumn(\"data_carga\", lit(agora.strftime(\"%Y-%m-%d\")).cast('date'))\n",
    "    )\n",
    "    silverAtual = pegarSilverAtual(tabela)\n",
    "    if silverAtual == None:\n",
    "        salvarDadosDoDF(silverDF, f'{strSilverPath}-{tabela}')\n",
    "        enviarAlerta('Informacao',\n",
    "            f'Registros a serem salvos: {silverDF.select(count(\"*\").alias(\"QTD\")).collect()[0][\"QTD\"]}')\n",
    "    else:\n",
    "        silverBothDF = silverAtual.unionByName(silverDF).distinct()\n",
    "        salvarDadosDoDF(silverBothDF, f'{strSilverPath}-{tabela}')\n",
    "        enviarAlerta('Informacao',\n",
    "            f'Registros a serem salvos: {silverBothDF.select(count(\"*\").alias(\"QTD\")).collect()[0][\"QTD\"]}')\n",
    "    return"
   ]
  },
  {
   "cell_type": "code",
   "execution_count": 10,
   "id": "ee29207a-8b31-42ec-a7d5-bfe7c5d699ba",
   "metadata": {},
   "outputs": [],
   "source": [
    "# TABELA PRODUTOS\n",
    "def produtos():\n",
    "    tabela = 'produtos'\n",
    "    bronzeDF = pegarBronzeAtual(tabela)\n",
    "    if bronzeDF == None:\n",
    "        enviarAlerta('Atencao', f'Ingestão BRONZE - SILVER base \"{tabela}\" interrompida, base BRONZE não encontrada')\n",
    "        return\n",
    "    enviarAlerta('Informacao', f'COUNT bronze {tabela}: {bronzeDF.select(count(\"*\").alias(\"QTD\")).collect()[0][\"QTD\"]}')\n",
    "    silverDF = (bronzeDF #.select('*').where(col('id_produto') < 10)  # TODO inserida para teste, retirar\n",
    "        .select('surrogate_key', 'id_produto','produto','preco','data_carga')\n",
    "        .withColumn(\"data_carga\", lit(agora.strftime(\"%Y-%m-%d\")).cast('date'))\n",
    "    )\n",
    "    silverAtual = pegarSilverAtual(tabela)\n",
    "    if silverAtual == None:\n",
    "        salvarDadosDoDF(silverDF, f'{strSilverPath}-{tabela}')\n",
    "        enviarAlerta('Informacao',\n",
    "            f'Registros a serem salvos: {silverDF.select(count(\"*\").alias(\"QTD\")).collect()[0][\"QTD\"]}')\n",
    "    else:\n",
    "        silverBothDF = silverAtual.unionByName(silverDF).distinct()\n",
    "        salvarDadosDoDF(silverBothDF, f'{strSilverPath}-{tabela}')\n",
    "        enviarAlerta('Informacao',\n",
    "            f'Registros a serem salvos: {silverBothDF.select(count(\"*\").alias(\"QTD\")).collect()[0][\"QTD\"]}')\n",
    "    return"
   ]
  },
  {
   "cell_type": "code",
   "execution_count": 11,
   "id": "d7085ab3-f0e7-4b6c-a440-d340d4088786",
   "metadata": {},
   "outputs": [],
   "source": [
    "# TABELA VENDAS\n",
    "def vendas():\n",
    "    tabela = 'vendas'\n",
    "    bronzeDF = pegarBronzeAtual(tabela)\n",
    "    if bronzeDF == None:\n",
    "        enviarAlerta('Atencao', f'Ingestão BRONZE - SILVER base \"{tabela}\" interrompida, base BRONZE não encontrada')\n",
    "        return\n",
    "    enviarAlerta('Informacao', f'COUNT bronze {tabela}: {bronzeDF.select(count(\"*\").alias(\"QTD\")).collect()[0][\"QTD\"]}')\n",
    "    silverDF = (bronzeDF #.select('*').where(col('id_venda') < 10)  # TODO inserida para teste, retirar\n",
    "        .select('surrogate_key', 'id_venda','id_vendedor','id_cliente', 'total',col('data').alias('data_venda'))\n",
    "        .withColumn(\"data_carga\", lit(agora.strftime(\"%Y-%m-%d\")).cast('date'))\n",
    "    )\n",
    "    silverAtual = pegarSilverAtual(tabela)\n",
    "    if silverAtual == None:\n",
    "        salvarDadosDoDF(silverDF, f'{strSilverPath}-{tabela}')\n",
    "        enviarAlerta('Informacao',\n",
    "            f'Registros a serem salvos: {silverDF.select(count(\"*\").alias(\"QTD\")).collect()[0][\"QTD\"]}')\n",
    "    else:\n",
    "        silverBothDF = silverAtual.unionByName(silverDF).distinct()\n",
    "        salvarDadosDoDF(silverBothDF, f'{strSilverPath}-{tabela}')\n",
    "        enviarAlerta('Informacao',\n",
    "            f'Registros a serem salvos: {silverBothDF.select(count(\"*\").alias(\"QTD\")).collect()[0][\"QTD\"]}')\n",
    "    return"
   ]
  },
  {
   "cell_type": "code",
   "execution_count": 12,
   "id": "3efb581d-d9bd-44cf-a4ea-7187fa1fb8c4",
   "metadata": {},
   "outputs": [],
   "source": [
    "# TABELA ITENS VENDAS\n",
    "def itensVendas():\n",
    "    tabela = 'itens_venda'\n",
    "    bronzeDF = pegarBronzeAtual(tabela)\n",
    "    if bronzeDF == None:\n",
    "        enviarAlerta('Atencao', f'Ingestão BRONZE - SILVER base \"{tabela}\" interrompida, base BRONZE não encontrada')\n",
    "        return\n",
    "    enviarAlerta('Informacao', f'COUNT bronze {tabela}: {bronzeDF.select(count(\"*\").alias(\"QTD\")).collect()[0][\"QTD\"]}')\n",
    "    silverDF = (bronzeDF #.select('*').where(col('id_venda') < 10)  # TODO inserida para teste, retirar\n",
    "        .select('surrogate_key', 'id_produto','id_venda','quantidade','valor_unitario','valor_total','desconto')\n",
    "        .withColumn(\"data_carga\", lit(agora.strftime(\"%Y-%m-%d\")).cast('date'))\n",
    "    )\n",
    "    silverAtual = pegarSilverAtual(tabela)\n",
    "    if silverAtual == None:\n",
    "        salvarDadosDoDF(silverDF, f'{strSilverPath}-{tabela}')\n",
    "        enviarAlerta('Informacao',\n",
    "            f'Registros a serem salvos: {silverDF.select(count(\"*\").alias(\"QTD\")).collect()[0][\"QTD\"]}')\n",
    "    else:\n",
    "        silverBothDF = silverAtual.unionByName(silverDF).distinct()\n",
    "        salvarDadosDoDF(silverBothDF, f'{strSilverPath}-{tabela}')\n",
    "        enviarAlerta('Informacao',\n",
    "            f'Registros a serem salvos: {silverBothDF.select(count(\"*\").alias(\"QTD\")).collect()[0][\"QTD\"]}')\n",
    "    return"
   ]
  },
  {
   "cell_type": "code",
   "execution_count": 13,
   "id": "afcb7643-76ef-4e54-af04-a7a6fd42f491",
   "metadata": {},
   "outputs": [],
   "source": [
    "def executar():\n",
    "    clientes()\n",
    "    vendedores()\n",
    "    produtos()\n",
    "    vendas()\n",
    "    itensVendas()\n",
    "    return"
   ]
  },
  {
   "cell_type": "code",
   "execution_count": 14,
   "id": "1d401a0b-2f29-4edb-bd1f-ba8e65b6d995",
   "metadata": {},
   "outputs": [],
   "source": [
    "def main():\n",
    "    try:\n",
    "        enviarAlerta('Informacao', 'ingestão para base SILVER iniciada...')\n",
    "        executar()\n",
    "        enviarAlerta('Informacao', 'Ingestão para base SILVER concluída!!!')\n",
    "    except Exception as e:\n",
    "        enviarAlerta('Erro', e)\n",
    "    finally:\n",
    "        spark.stop()\n",
    "        print('conexão spark finalizada!')"
   ]
  },
  {
   "cell_type": "code",
   "execution_count": 15,
   "id": "d66e19b9-1ad4-412c-a3fd-95a42d8ea64d",
   "metadata": {},
   "outputs": [
    {
     "name": "stdout",
     "output_type": "stream",
     "text": [
      "Encaminhando alerta de Informacao\n",
      "Informacao - type: <class 'str'> - Mensagem: ingestão para base SILVER iniciada...\n",
      "Base BRONZE \"clientes\" encontrada\n",
      "Encaminhando alerta de Informacao\n",
      "Informacao - type: <class 'str'> - Mensagem: COUNT bronze clientes: 250\n",
      "Base SILVER \"clientes\" encontrada\n",
      "Encaminhando alerta de Informacao\n",
      "Informacao - type: <class 'str'> - Mensagem: Registros a serem salvos: 780\n",
      "Base BRONZE \"vendedores\" encontrada\n",
      "Encaminhando alerta de Informacao\n",
      "Informacao - type: <class 'str'> - Mensagem: COUNT bronze vendedores: 10\n",
      "Base SILVER \"vendedores\" encontrada\n",
      "Encaminhando alerta de Informacao\n",
      "Informacao - type: <class 'str'> - Mensagem: Registros a serem salvos: 46\n",
      "Base BRONZE \"produtos\" encontrada\n",
      "Encaminhando alerta de Informacao\n",
      "Informacao - type: <class 'str'> - Mensagem: COUNT bronze produtos: 10\n",
      "Base SILVER \"produtos\" encontrada\n",
      "Encaminhando alerta de Informacao\n",
      "Informacao - type: <class 'str'> - Mensagem: Registros a serem salvos: 24\n",
      "Base BRONZE \"vendas\" encontrada\n",
      "Encaminhando alerta de Informacao\n",
      "Informacao - type: <class 'str'> - Mensagem: COUNT bronze vendas: 299\n",
      "Base SILVER \"vendas\" encontrada\n",
      "Encaminhando alerta de Informacao\n",
      "Informacao - type: <class 'str'> - Mensagem: Registros a serem salvos: 73435\n",
      "Base BRONZE \"itens_venda\" encontrada\n",
      "Encaminhando alerta de Informacao\n",
      "Informacao - type: <class 'str'> - Mensagem: COUNT bronze itens_venda: 298\n",
      "Base SILVER \"itens_venda\" encontrada\n",
      "Encaminhando alerta de Informacao\n",
      "Informacao - type: <class 'str'> - Mensagem: Registros a serem salvos: 72931\n",
      "Encaminhando alerta de Informacao\n",
      "Informacao - type: <class 'str'> - Mensagem: Ingestão para base SILVER concluída!!!\n",
      "conexão spark finalizada!\n"
     ]
    }
   ],
   "source": [
    "main()"
   ]
  },
  {
   "cell_type": "markdown",
   "id": "b7facedb-75cc-41e7-b981-65746170a348",
   "metadata": {},
   "source": [
    "***"
   ]
  },
  {
   "cell_type": "code",
   "execution_count": null,
   "id": "35aa1f24-a1b2-4b46-b2e0-b4e9fbcd16bc",
   "metadata": {},
   "outputs": [],
   "source": []
  }
 ],
 "metadata": {
  "kernelspec": {
   "display_name": "Python 3 (ipykernel)",
   "language": "python",
   "name": "python3"
  },
  "language_info": {
   "codemirror_mode": {
    "name": "ipython",
    "version": 3
   },
   "file_extension": ".py",
   "mimetype": "text/x-python",
   "name": "python",
   "nbconvert_exporter": "python",
   "pygments_lexer": "ipython3",
   "version": "3.10.12"
  }
 },
 "nbformat": 4,
 "nbformat_minor": 5
}
