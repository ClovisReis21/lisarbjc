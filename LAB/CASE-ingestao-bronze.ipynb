{
 "cells": [
  {
   "cell_type": "code",
   "execution_count": 1,
   "id": "dc65ddee-7a84-4c89-a4c2-911387d270d2",
   "metadata": {},
   "outputs": [],
   "source": [
    "import findspark, datetime, pytz\n",
    "from pyspark.sql import SparkSession\n",
    "from pyspark.sql.window import Window\n",
    "from pyspark.sql.functions import lit,row_number,col,count\n",
    "\n",
    "findspark.add_packages('mysql:mysql-connector-java:8.0.11')"
   ]
  },
  {
   "cell_type": "code",
   "execution_count": 2,
   "id": "6df868a9-75b0-4765-983f-7716e55503ec",
   "metadata": {},
   "outputs": [],
   "source": [
    "agora = datetime.datetime.now(pytz.timezone('America/Sao_paulo'))\n",
    "strBronzePath = f'./LAKE/BRONZE/loja_simulada-vendas'"
   ]
  },
  {
   "cell_type": "code",
   "execution_count": 15,
   "id": "f549c76c-0d14-4d8a-a7cf-63c1e8b1d592",
   "metadata": {
    "scrolled": true
   },
   "outputs": [],
   "source": [
    "# Create SparkSession\n",
    "spark = (SparkSession.builder\n",
    "           .appName('IngestaoBronze')\n",
    "           .config(\"packages\", \"org.apache.spark:mysql-connector-java-8.0.13.jar\")\n",
    "           .getOrCreate()\n",
    "        )"
   ]
  },
  {
   "cell_type": "code",
   "execution_count": 4,
   "id": "49555bff-e69c-4e48-98d7-815dab92edd9",
   "metadata": {},
   "outputs": [],
   "source": [
    "def pegarBronzeAtual(tabela):\n",
    "    try:\n",
    "        tempDF = (spark.read.parquet(f'{strBronzePath}-{tabela}')).cache()\n",
    "        print(f'Base BRONZE \"{tabela}\" encontrada!')\n",
    "        return tempDF\n",
    "    except Exception as e:\n",
    "        print(f'Base BRONZE \"{tabela}\" NÃO encontrada!\\n', e)\n",
    "        return None"
   ]
  },
  {
   "cell_type": "code",
   "execution_count": 5,
   "id": "3d87375f-d394-42a1-8180-88c9037e60d9",
   "metadata": {},
   "outputs": [],
   "source": [
    "# Read from MySQL Table\n",
    "def pegarDadosDaTable(tabela):\n",
    "    return (spark.read\n",
    "            .format(\"jdbc\")\n",
    "            .option(\"driver\",\"com.mysql.cj.jdbc.Driver\")\n",
    "            .option(\"url\", \"jdbc:mysql://localhost:3306/vendas?allowPublicKeyRetrieval=true&useSSL=false\")\n",
    "            .option(\"dbtable\", tabela)\n",
    "            .option(\"user\", \"big_data_importer\")\n",
    "            .option(\"password\", \"big_data_importer\")\n",
    "            .load()\n",
    "         )"
   ]
  },
  {
   "cell_type": "code",
   "execution_count": 6,
   "id": "4c4067af-eb6d-43fe-a83f-8f09561a600e",
   "metadata": {},
   "outputs": [],
   "source": [
    "def enviarAlerta(tipoAlerta, mensagem):\n",
    "    print(F'Encaminhando alerta de {tipoAlerta}')\n",
    "    print(f'{tipoAlerta} - type: {type(mensagem)} - Mensagem:', mensagem)\n",
    "    return"
   ]
  },
  {
   "cell_type": "code",
   "execution_count": 7,
   "id": "35136bd6-80ff-4b9f-b15a-ee0547163d99",
   "metadata": {},
   "outputs": [],
   "source": [
    "def salvarFinalDF(df,tabela):\n",
    "    return df.write.mode(\"overwrite\").parquet(f'{strBronzePath}-{tabela}')"
   ]
  },
  {
   "cell_type": "code",
   "execution_count": 8,
   "id": "b5d1d068-af18-4b4f-8101-98e6b077a680",
   "metadata": {},
   "outputs": [],
   "source": [
    "def clientes():\n",
    "    tabela = 'clientes'\n",
    "    bronzeAtualDF = pegarBronzeAtual(tabela)\n",
    "    baseNovaDF = pegarDadosDaTable(tabela).withColumn(\"data_carga\", lit(agora.strftime(\"%Y-%m-%d\")).cast('date'))\n",
    "    enviarAlerta('Informacao', f'COUNT bronze {tabela}: {baseNovaDF.select(count(\"*\").alias(\"QTD\")).collect()[0][\"QTD\"]}')\n",
    "    if bronzeAtualDF != None:\n",
    "   # SELECIONAR DADOS NOVOS\n",
    "        apenasNovosDF = (baseNovaDF.join(bronzeAtualDF          \n",
    "            ,((bronzeAtualDF.id_cliente == baseNovaDF.id_cliente) &\n",
    "                (bronzeAtualDF.cpf == baseNovaDF.cpf) &\n",
    "                (bronzeAtualDF.telefone == baseNovaDF.telefone) &\n",
    "                (bronzeAtualDF.email == baseNovaDF.email) &\n",
    "                (bronzeAtualDF.cliente == baseNovaDF.cliente) &\n",
    "                (bronzeAtualDF.estado == baseNovaDF.estado) &\n",
    "                (bronzeAtualDF.origem_racial == baseNovaDF.origem_racial) &\n",
    "                (bronzeAtualDF.sexo == baseNovaDF.sexo) &\n",
    "                (bronzeAtualDF.status == baseNovaDF.status))\n",
    "            ,\"leftanti\"))\n",
    "        enviarAlerta('Informacao', f'COUNT novos registros: {apenasNovosDF.select(count(\"*\").alias(\"QTD\")).collect()[0][\"QTD\"]}')\n",
    "    # ENCONTRAR ULTIMA SURROGATE KEY\n",
    "        maxSK = bronzeAtualDF.selectExpr(\"max(surrogate_key) as max_key\").collect()[0][\"max_key\"]\n",
    "    # ADICIONAR SK AO NOVO DF\n",
    "        windowSpec = Window.orderBy(\"id_cliente\")        \n",
    "        apenasNovosSKDF = (apenasNovosDF.withColumn(\"surrogate_key\", maxSK + row_number().over(windowSpec)))\n",
    "    # FINAL DO PROCESSO\n",
    "        finalDF = bronzeAtualDF.unionByName(apenasNovosSKDF)\n",
    "        salvarFinalDF(finalDF, tabela)\n",
    "        enviarAlerta('Informacao',\n",
    "            f'Registros a serem salvos: {apenasNovosDF.select(count(\"*\").alias(\"QTD\")).collect()[0][\"QTD\"]}')\n",
    "    else:\n",
    "        windowSpec = Window.orderBy(\"id_cliente\")\n",
    "        bronzeNovoDF = baseNovaDF.withColumn(\"surrogate_key\", row_number().over(windowSpec))\n",
    "        salvarFinalDF(bronzeNovoDF, tabela)\n",
    "        enviarAlerta('Informacao',\n",
    "            f'Registros a serem salvos: {bronzeNovoDF.select(count(\"*\").alias(\"QTD\")).collect()[0][\"QTD\"]}')\n",
    "    return"
   ]
  },
  {
   "cell_type": "code",
   "execution_count": 9,
   "id": "d7625b3c-6b60-4217-b89b-6e5e62388df9",
   "metadata": {},
   "outputs": [],
   "source": [
    "def vendedores():\n",
    "    tabela = 'vendedores'\n",
    "    bronzeAtualDF = pegarBronzeAtual(tabela)\n",
    "    baseNovaDF = pegarDadosDaTable(tabela).withColumn(\"data_carga\", lit(agora.strftime(\"%Y-%m-%d\")).cast('date'))\n",
    "    enviarAlerta('Informacao', f'COUNT bronze {tabela}: {baseNovaDF.select(count(\"*\").alias(\"QTD\")).collect()[0][\"QTD\"]}')\n",
    "    if bronzeAtualDF != None:\n",
    "    # SELECIONAR DADOS NOVOS\n",
    "        apenasNovosDF = (baseNovaDF.join(bronzeAtualDF          \n",
    "            ,((bronzeAtualDF.id_vendedor == baseNovaDF.id_vendedor) &\n",
    "                (bronzeAtualDF.cpf == baseNovaDF.cpf) &\n",
    "                (bronzeAtualDF.telefone == baseNovaDF.telefone) &\n",
    "                (bronzeAtualDF.email == baseNovaDF.email) &\n",
    "                (bronzeAtualDF.origem_racial == baseNovaDF.origem_racial) &\n",
    "                (bronzeAtualDF.nome == baseNovaDF.nome) )\n",
    "            ,\"leftanti\"))\n",
    "        enviarAlerta('Informacao', f'COUNT novos registros: {apenasNovosDF.select(count(\"*\").alias(\"QTD\")).collect()[0][\"QTD\"]}')\n",
    "    # ENCONTRAR ULTIMA SURROGATE KEY\n",
    "        maxSK = bronzeAtualDF.selectExpr(\"max(surrogate_key) as max_key\").collect()[0][\"max_key\"]\n",
    "    # ADICIONAR SK AO NOVO DF\n",
    "        windowSpec = Window.orderBy(\"id_vendedor\")        \n",
    "        apenasNovosSKDF = (apenasNovosDF.withColumn(\"surrogate_key\", maxSK + row_number().over(windowSpec)))\n",
    "    # FINAL DO PROCESSO\n",
    "        finalDF = bronzeAtualDF.unionByName(apenasNovosSKDF)\n",
    "        salvarFinalDF(finalDF, tabela)\n",
    "        enviarAlerta('Informacao',\n",
    "            f'Registros a serem salvos: {finalDF.select(count(\"*\").alias(\"QTD\")).collect()[0][\"QTD\"]}')\n",
    "    else:\n",
    "        windowSpec = Window.orderBy(\"id_vendedor\")\n",
    "        bronzeNovoDF = baseNovaDF.withColumn(\"surrogate_key\", row_number().over(windowSpec))\n",
    "        salvarFinalDF(bronzeNovoDF, tabela)\n",
    "        enviarAlerta('Informacao',\n",
    "            f'Registros a serem salvos: {bronzeNovoDF.select(count(\"*\").alias(\"QTD\")).collect()[0][\"QTD\"]}')\n",
    "    return"
   ]
  },
  {
   "cell_type": "code",
   "execution_count": 10,
   "id": "85e0ab26-dd4f-465d-a2a1-8ba3f2ff194a",
   "metadata": {},
   "outputs": [],
   "source": [
    "def produtos():\n",
    "    tabela = 'produtos'\n",
    "    bronzeAtualDF = pegarBronzeAtual(tabela)\n",
    "    baseNovaDF = pegarDadosDaTable(tabela).withColumn(\"data_carga\", lit(agora.strftime(\"%Y-%m-%d\")).cast('date'))\n",
    "    enviarAlerta('Informacao', f'COUNT bronze {tabela}: {baseNovaDF.select(count(\"*\").alias(\"QTD\")).collect()[0][\"QTD\"]}')\n",
    "    if bronzeAtualDF != None:\n",
    "    # SELECIONAR DADOS NOVOS\n",
    "        apenasNovosDF = (baseNovaDF.join(bronzeAtualDF          \n",
    "            ,((bronzeAtualDF.id_produto == baseNovaDF.id_produto) &\n",
    "                (bronzeAtualDF.produto == baseNovaDF.produto) &\n",
    "                (bronzeAtualDF.preco == baseNovaDF.preco))\n",
    "            ,\"leftanti\"))\n",
    "        enviarAlerta('Informacao', f'COUNT novos registros: {apenasNovosDF.select(count(\"*\").alias(\"QTD\")).collect()[0][\"QTD\"]}')\n",
    "    # ENCONTRAR ULTIMA SURROGATE KEY\n",
    "        maxSK = bronzeAtualDF.selectExpr(\"max(surrogate_key) as max_key\").collect()[0][\"max_key\"]\n",
    "    # ADICIONAR SK AO NOVO DF\n",
    "        windowSpec = Window.orderBy(\"id_produto\")        \n",
    "        apenasNovosSKDF = (apenasNovosDF.withColumn(\"surrogate_key\", maxSK + row_number().over(windowSpec)))\n",
    "    # FINAL DO PROCESSO\n",
    "        finalDF = bronzeAtualDF.unionByName(apenasNovosSKDF)\n",
    "        salvarFinalDF(finalDF, tabela)\n",
    "        enviarAlerta('Informacao',\n",
    "            f'Registros a serem salvos: {finalDF.select(count(\"*\").alias(\"QTD\")).collect()[0][\"QTD\"]}')\n",
    "    else:\n",
    "        windowSpec = Window.orderBy(\"id_produto\")\n",
    "        bronzeNovoDF = baseNovaDF.withColumn(\"surrogate_key\", row_number().over(windowSpec))\n",
    "        salvarFinalDF(bronzeNovoDF, tabela)\n",
    "        enviarAlerta('Informacao',\n",
    "            f'Registros a serem salvos: {bronzeNovoDF.select(count(\"*\").alias(\"QTD\")).collect()[0][\"QTD\"]}')\n",
    "    return"
   ]
  },
  {
   "cell_type": "code",
   "execution_count": 11,
   "id": "0c9cdc39-0d7a-482f-bdad-2d8062a3b2a2",
   "metadata": {},
   "outputs": [],
   "source": [
    "def vendas():\n",
    "    tabela = 'vendas'\n",
    "    bronzeAtualDF = pegarBronzeAtual(tabela)\n",
    "    baseNovaDF = pegarDadosDaTable(tabela).withColumn(\"data_carga\", lit(agora.strftime(\"%Y-%m-%d\")).cast('date'))\n",
    "    enviarAlerta('Informacao', f'COUNT bronze {tabela}: {baseNovaDF.select(count(\"*\").alias(\"QTD\")).collect()[0][\"QTD\"]}')\n",
    "    if bronzeAtualDF != None:\n",
    "    # SELECIONAR DADOS NOVOS\n",
    "        apenasNovosDF = (baseNovaDF.join(bronzeAtualDF          \n",
    "            ,((bronzeAtualDF.id_venda == baseNovaDF.id_venda) &\n",
    "                (bronzeAtualDF.id_vendedor == baseNovaDF.id_vendedor) &\n",
    "                (bronzeAtualDF.id_cliente == baseNovaDF.id_cliente) &\n",
    "                (bronzeAtualDF.data == baseNovaDF.data)) &\n",
    "                (bronzeAtualDF.total == baseNovaDF.total)\n",
    "            ,\"leftanti\"))\n",
    "        enviarAlerta('Informacao', f'COUNT novos registros: {apenasNovosDF.select(count(\"*\").alias(\"QTD\")).collect()[0][\"QTD\"]}')\n",
    "    # ENCONTRAR ULTIMA SURROGATE KEY\n",
    "        maxSK = bronzeAtualDF.selectExpr(\"max(surrogate_key) as max_key\").collect()[0][\"max_key\"]\n",
    "    # ADICIONAR SK AO NOVO DF\n",
    "        windowSpec = Window.orderBy(\"id_venda\")        \n",
    "        apenasNovosSKDF = (apenasNovosDF.withColumn(\"surrogate_key\", maxSK + row_number().over(windowSpec)))\n",
    "    # FINAL DO PROCESSO\n",
    "        finalDF = bronzeAtualDF.unionByName(apenasNovosSKDF)\n",
    "        salvarFinalDF(finalDF, tabela)\n",
    "        enviarAlerta('Informacao',\n",
    "            f'Registros a serem salvos: {finalDF.select(count(\"*\").alias(\"QTD\")).collect()[0][\"QTD\"]}')\n",
    "    else:\n",
    "        windowSpec = Window.orderBy(\"id_venda\")\n",
    "        bronzeNovoDF = baseNovaDF.withColumn(\"surrogate_key\", row_number().over(windowSpec))\n",
    "        salvarFinalDF(bronzeNovoDF, tabela)\n",
    "        enviarAlerta('Informacao',\n",
    "            f'Registros a serem salvos: {bronzeNovoDF.select(count(\"*\").alias(\"QTD\")).collect()[0][\"QTD\"]}')\n",
    "    return"
   ]
  },
  {
   "cell_type": "code",
   "execution_count": 12,
   "id": "c21a9211-a913-4f1c-8cab-fb8e49e3dacf",
   "metadata": {},
   "outputs": [],
   "source": [
    "def itens_venda():\n",
    "    tabela = 'itens_venda'\n",
    "    bronzeAtualDF = pegarBronzeAtual(tabela)\n",
    "    baseNovaDF = pegarDadosDaTable(tabela).withColumn(\"data_carga\", lit(agora.strftime(\"%Y-%m-%d\")).cast('date'))\n",
    "    enviarAlerta('Informacao', f'COUNT bronze {tabela}: {baseNovaDF.select(count(\"*\").alias(\"QTD\")).collect()[0][\"QTD\"]}')\n",
    "    if bronzeAtualDF != None:\n",
    "    # SELECIONAR DADOS NOVOS\n",
    "        # bronzeAtualDF = bronzeAtualDF1  # .select('*').where(col('id_venda') < 10)  # TODO inserida para teste, retirar\n",
    "        apenasNovosDF = (baseNovaDF.join(bronzeAtualDF          \n",
    "            ,((bronzeAtualDF.id_produto == baseNovaDF.id_produto) &\n",
    "                (bronzeAtualDF.id_venda == baseNovaDF.id_venda) &\n",
    "                (bronzeAtualDF.quantidade == baseNovaDF.quantidade) &\n",
    "                (bronzeAtualDF.valor_unitario == baseNovaDF.valor_unitario)) &\n",
    "                (bronzeAtualDF.valor_total == baseNovaDF.valor_total) &\n",
    "                (bronzeAtualDF.desconto == baseNovaDF.desconto)\n",
    "            ,\"leftanti\"))\n",
    "        enviarAlerta('Informacao', f'COUNT novos registros: {apenasNovosDF.select(count(\"*\").alias(\"QTD\")).collect()[0][\"QTD\"]}')\n",
    "    # ENCONTRAR ULTIMA SURROGATE KEY\n",
    "        maxSK = bronzeAtualDF.selectExpr(\"max(surrogate_key) as max_key\").collect()[0][\"max_key\"]\n",
    "    # ADICIONAR SK AO NOVO DF\n",
    "        windowSpec = Window.orderBy(*[\"id_venda\", \"id_produto\"])\n",
    "        apenasNovosSKDF = (apenasNovosDF.withColumn(\"surrogate_key\", maxSK + row_number().over(windowSpec)))\n",
    "    # FINAL DO PROCESSO\n",
    "        finalDF = bronzeAtualDF.unionByName(apenasNovosSKDF)\n",
    "        salvarFinalDF(finalDF, tabela)\n",
    "        enviarAlerta('Informacao',\n",
    "            f'Registros a serem salvos: {finalDF.select(count(\"*\").alias(\"QTD\")).collect()[0][\"QTD\"]}')\n",
    "    else:\n",
    "        windowSpec = Window.orderBy(\"id_venda\")\n",
    "        bronzeNovoDF = baseNovaDF.withColumn(\"surrogate_key\", row_number().over(windowSpec))\n",
    "        salvarFinalDF(bronzeNovoDF, tabela)\n",
    "        enviarAlerta('Informacao',\n",
    "            f'Registros a serem salvos: {bronzeNovoDF.select(count(\"*\").alias(\"QTD\")).collect()[0][\"QTD\"]}')\n",
    "    return"
   ]
  },
  {
   "cell_type": "code",
   "execution_count": 13,
   "id": "f519f346-3e2c-4fd5-8333-c9a22197daf8",
   "metadata": {},
   "outputs": [],
   "source": [
    "def main():\n",
    "    try:\n",
    "        enviarAlerta('Informacao', 'ingestão para base BRONZE iniciada...')\n",
    "        clientes()\n",
    "        vendedores()\n",
    "        produtos()\n",
    "        vendas()\n",
    "        itens_venda()\n",
    "        enviarAlerta('Sucesso', 'Ingestão para base BRONZE concluída!!!')\n",
    "    except Exception as e:\n",
    "        enviarAlerta('Erro', e)\n",
    "    finally:\n",
    "        spark.stop()\n",
    "        print('Conexão spark finalizada!')"
   ]
  },
  {
   "cell_type": "code",
   "execution_count": 14,
   "id": "7bcc7fdc-4c05-49e8-98aa-d98f81823b76",
   "metadata": {},
   "outputs": [
    {
     "name": "stdout",
     "output_type": "stream",
     "text": [
      "Encaminhando alerta de Informacao\n",
      "Informacao - type: <class 'str'> - Mensagem: ingestão para base BRONZE iniciada...\n",
      "Base BRONZE \"clientes\" NÃO encontrada!\n",
      " [PATH_NOT_FOUND] Path does not exist: file:/home/cj/AULAS/LAKE/BRONZE/loja_simulada-vendas-clientes.\n",
      "Encaminhando alerta de Informacao\n",
      "Informacao - type: <class 'str'> - Mensagem: COUNT bronze clientes: 530\n"
     ]
    },
    {
     "name": "stderr",
     "output_type": "stream",
     "text": [
      "24/06/09 10:51:53 WARN WindowExec: No Partition Defined for Window operation! Moving all data to a single partition, this can cause serious performance degradation.\n",
      "24/06/09 10:51:53 WARN WindowExec: No Partition Defined for Window operation! Moving all data to a single partition, this can cause serious performance degradation.\n",
      "24/06/09 10:51:53 WARN WindowExec: No Partition Defined for Window operation! Moving all data to a single partition, this can cause serious performance degradation.\n",
      "24/06/09 10:51:53 WARN WindowExec: No Partition Defined for Window operation! Moving all data to a single partition, this can cause serious performance degradation.\n",
      "24/06/09 10:51:53 WARN WindowExec: No Partition Defined for Window operation! Moving all data to a single partition, this can cause serious performance degradation.\n",
      "                                                                                \r"
     ]
    },
    {
     "name": "stdout",
     "output_type": "stream",
     "text": [
      "Encaminhando alerta de Informacao\n",
      "Informacao - type: <class 'str'> - Mensagem: Registros a serem salvos: 530\n",
      "Base BRONZE \"vendedores\" NÃO encontrada!\n",
      " [PATH_NOT_FOUND] Path does not exist: file:/home/cj/AULAS/LAKE/BRONZE/loja_simulada-vendas-vendedores.\n",
      "Encaminhando alerta de Informacao\n",
      "Informacao - type: <class 'str'> - Mensagem: COUNT bronze vendedores: 36\n"
     ]
    },
    {
     "name": "stderr",
     "output_type": "stream",
     "text": [
      "24/06/09 10:51:55 WARN WindowExec: No Partition Defined for Window operation! Moving all data to a single partition, this can cause serious performance degradation.\n",
      "24/06/09 10:51:55 WARN WindowExec: No Partition Defined for Window operation! Moving all data to a single partition, this can cause serious performance degradation.\n",
      "24/06/09 10:51:55 WARN WindowExec: No Partition Defined for Window operation! Moving all data to a single partition, this can cause serious performance degradation.\n",
      "24/06/09 10:51:55 WARN WindowExec: No Partition Defined for Window operation! Moving all data to a single partition, this can cause serious performance degradation.\n",
      "24/06/09 10:51:55 WARN WindowExec: No Partition Defined for Window operation! Moving all data to a single partition, this can cause serious performance degradation.\n"
     ]
    },
    {
     "name": "stdout",
     "output_type": "stream",
     "text": [
      "Encaminhando alerta de Informacao\n",
      "Informacao - type: <class 'str'> - Mensagem: Registros a serem salvos: 36\n",
      "Base BRONZE \"produtos\" NÃO encontrada!\n",
      " [PATH_NOT_FOUND] Path does not exist: file:/home/cj/AULAS/LAKE/BRONZE/loja_simulada-vendas-produtos.\n",
      "Encaminhando alerta de Informacao\n",
      "Informacao - type: <class 'str'> - Mensagem: COUNT bronze produtos: 14\n"
     ]
    },
    {
     "name": "stderr",
     "output_type": "stream",
     "text": [
      "24/06/09 10:51:55 WARN WindowExec: No Partition Defined for Window operation! Moving all data to a single partition, this can cause serious performance degradation.\n",
      "24/06/09 10:51:55 WARN WindowExec: No Partition Defined for Window operation! Moving all data to a single partition, this can cause serious performance degradation.\n",
      "24/06/09 10:51:55 WARN WindowExec: No Partition Defined for Window operation! Moving all data to a single partition, this can cause serious performance degradation.\n",
      "24/06/09 10:51:55 WARN WindowExec: No Partition Defined for Window operation! Moving all data to a single partition, this can cause serious performance degradation.\n",
      "24/06/09 10:51:55 WARN WindowExec: No Partition Defined for Window operation! Moving all data to a single partition, this can cause serious performance degradation.\n"
     ]
    },
    {
     "name": "stdout",
     "output_type": "stream",
     "text": [
      "Encaminhando alerta de Informacao\n",
      "Informacao - type: <class 'str'> - Mensagem: Registros a serem salvos: 14\n",
      "Base BRONZE \"vendas\" NÃO encontrada!\n",
      " [PATH_NOT_FOUND] Path does not exist: file:/home/cj/AULAS/LAKE/BRONZE/loja_simulada-vendas-vendas.\n",
      "Encaminhando alerta de Informacao\n",
      "Informacao - type: <class 'str'> - Mensagem: COUNT bronze vendas: 73136\n"
     ]
    },
    {
     "name": "stderr",
     "output_type": "stream",
     "text": [
      "24/06/09 10:51:56 WARN WindowExec: No Partition Defined for Window operation! Moving all data to a single partition, this can cause serious performance degradation.\n",
      "24/06/09 10:51:56 WARN WindowExec: No Partition Defined for Window operation! Moving all data to a single partition, this can cause serious performance degradation.\n",
      "24/06/09 10:51:56 WARN WindowExec: No Partition Defined for Window operation! Moving all data to a single partition, this can cause serious performance degradation.\n",
      "24/06/09 10:51:56 WARN WindowExec: No Partition Defined for Window operation! Moving all data to a single partition, this can cause serious performance degradation.\n",
      "24/06/09 10:51:56 WARN WindowExec: No Partition Defined for Window operation! Moving all data to a single partition, this can cause serious performance degradation.\n"
     ]
    },
    {
     "name": "stdout",
     "output_type": "stream",
     "text": [
      "Encaminhando alerta de Informacao\n",
      "Informacao - type: <class 'str'> - Mensagem: Registros a serem salvos: 73136\n",
      "Base BRONZE \"itens_venda\" NÃO encontrada!\n",
      " [PATH_NOT_FOUND] Path does not exist: file:/home/cj/AULAS/LAKE/BRONZE/loja_simulada-vendas-itens_venda.\n",
      "Encaminhando alerta de Informacao\n",
      "Informacao - type: <class 'str'> - Mensagem: COUNT bronze itens_venda: 72633\n"
     ]
    },
    {
     "name": "stderr",
     "output_type": "stream",
     "text": [
      "24/06/09 10:51:57 WARN WindowExec: No Partition Defined for Window operation! Moving all data to a single partition, this can cause serious performance degradation.\n",
      "24/06/09 10:51:57 WARN WindowExec: No Partition Defined for Window operation! Moving all data to a single partition, this can cause serious performance degradation.\n",
      "24/06/09 10:51:57 WARN WindowExec: No Partition Defined for Window operation! Moving all data to a single partition, this can cause serious performance degradation.\n",
      "24/06/09 10:51:57 WARN WindowExec: No Partition Defined for Window operation! Moving all data to a single partition, this can cause serious performance degradation.\n",
      "24/06/09 10:51:57 WARN WindowExec: No Partition Defined for Window operation! Moving all data to a single partition, this can cause serious performance degradation.\n"
     ]
    },
    {
     "name": "stdout",
     "output_type": "stream",
     "text": [
      "Encaminhando alerta de Informacao\n",
      "Informacao - type: <class 'str'> - Mensagem: Registros a serem salvos: 72633\n",
      "Encaminhando alerta de Sucesso\n",
      "Sucesso - type: <class 'str'> - Mensagem: Ingestão para base BRONZE concluída!!!\n",
      "Conexão spark finalizada!\n"
     ]
    }
   ],
   "source": [
    "main()"
   ]
  },
  {
   "cell_type": "code",
   "execution_count": null,
   "id": "2569c812-8298-4cda-ad79-48e50697771f",
   "metadata": {},
   "outputs": [],
   "source": []
  }
 ],
 "metadata": {
  "kernelspec": {
   "display_name": "Python 3 (ipykernel)",
   "language": "python",
   "name": "python3"
  },
  "language_info": {
   "codemirror_mode": {
    "name": "ipython",
    "version": 3
   },
   "file_extension": ".py",
   "mimetype": "text/x-python",
   "name": "python",
   "nbconvert_exporter": "python",
   "pygments_lexer": "ipython3",
   "version": "3.10.12"
  }
 },
 "nbformat": 4,
 "nbformat_minor": 5
}
