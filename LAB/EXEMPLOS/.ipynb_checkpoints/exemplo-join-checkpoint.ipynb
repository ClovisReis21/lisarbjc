{
 "cells": [
  {
   "cell_type": "code",
   "execution_count": 1,
   "id": "11528fcc-fc40-4e20-895c-44477d18639b",
   "metadata": {},
   "outputs": [],
   "source": [
    "import pyspark\n",
    "from pyspark.sql import SparkSession\n",
    "from pyspark.sql.functions import col, row_number\n",
    "from pyspark.sql.window import Window"
   ]
  },
  {
   "cell_type": "code",
   "execution_count": 2,
   "id": "0f73375b-1c33-4414-ba34-ce502b9292ac",
   "metadata": {},
   "outputs": [
    {
     "name": "stderr",
     "output_type": "stream",
     "text": [
      "24/06/08 08:39:10 WARN Utils: Your hostname, cj resolves to a loopback address: 127.0.1.1; using 192.168.15.34 instead (on interface enp2s0)\n",
      "24/06/08 08:39:10 WARN Utils: Set SPARK_LOCAL_IP if you need to bind to another address\n",
      "Setting default log level to \"WARN\".\n",
      "To adjust logging level use sc.setLogLevel(newLevel). For SparkR, use setLogLevel(newLevel).\n",
      "24/06/08 08:39:10 WARN NativeCodeLoader: Unable to load native-hadoop library for your platform... using builtin-java classes where applicable\n"
     ]
    },
    {
     "name": "stdout",
     "output_type": "stream",
     "text": [
      "empDF\n"
     ]
    },
    {
     "name": "stderr",
     "output_type": "stream",
     "text": [
      "                                                                                \r"
     ]
    },
    {
     "name": "stdout",
     "output_type": "stream",
     "text": [
      "+-------------+------+--------+---------------+-----------+-----------+------+------+\n",
      "|surrogate_key|emp_id|name    |superior_emp_id|year_joined|emp_dept_id|gender|salary|\n",
      "+-------------+------+--------+---------------+-----------+-----------+------+------+\n",
      "|1            |1     |Smith   |-1             |2018       |10         |M     |3000  |\n",
      "|2            |2     |Rose    |1              |2010       |20         |M     |4000  |\n",
      "|3            |3     |Williams|1              |2010       |10         |M     |1000  |\n",
      "|4            |4     |Jones   |2              |2005       |10         |F     |2000  |\n",
      "+-------------+------+--------+---------------+-----------+-----------+------+------+\n",
      "\n",
      "emp_new\n",
      "+------+--------+---------------+-----------+-----------+------+------+\n",
      "|emp_id|name    |superior_emp_id|year_joined|emp_dept_id|gender|salary|\n",
      "+------+--------+---------------+-----------+-----------+------+------+\n",
      "|1     |Smith   |-1             |2018       |10         |M     |3000  |\n",
      "|2     |Rose    |1              |2010       |20         |M     |4000  |\n",
      "|3     |Williams|1              |2010       |10         |M     |1000  |\n",
      "|4     |Jones   |2              |2005       |10         |F     |2000  |\n",
      "|5     |Brown   |2              |2010       |40         |      |5000  |\n",
      "|6     |Brown   |2              |2010       |50         |      |3500  |\n",
      "+------+--------+---------------+-----------+-----------+------+------+\n",
      "\n"
     ]
    }
   ],
   "source": [
    "spark = SparkSession.builder.appName(\"sparkbyexamples.com\").getOrCreate()\n",
    "\n",
    "emp = ([\n",
    "    (1,1,\"Smith\",-1,\"2018\",\"10\",\"M\",3000),\n",
    "    (2,2,\"Rose\",1,\"2010\",\"20\",\"M\",4000),\n",
    "    (3,3,\"Williams\",1,\"2010\",\"10\",\"M\",1000),\n",
    "    (4,4,\"Jones\",2,\"2005\",\"10\",\"F\",2000),\n",
    "  ])\n",
    "empColumns = ([\"surrogate_key\",\"emp_id\",\"name\",\"superior_emp_id\",\"year_joined\",\n",
    "       \"emp_dept_id\",\"gender\",\"salary\"])\n",
    "\n",
    "empDF = spark.createDataFrame(data=emp, schema = empColumns)\n",
    "# empDF.printSchema()\n",
    "print('empDF')\n",
    "empDF.show(truncate=False)\n",
    "\n",
    "emp_new = ([\n",
    "    (1,\"Smith\",-1,\"2018\",\"10\",\"M\",3000),\n",
    "    (2,\"Rose\",1,\"2010\",\"20\",\"M\",4000),\n",
    "    (3,\"Williams\",1,\"2010\",\"10\",\"M\",1000),\n",
    "    (4,\"Jones\",2,\"2005\",\"10\",\"F\",2000),\n",
    "    (5,\"Brown\",2,\"2010\",\"40\",\"\",5000),\n",
    "    (6,\"Brown\",2,\"2010\",\"50\",\"\",3500)\n",
    "  ])\n",
    "emp_newColumns = ([\"emp_id\",\"name\",\"superior_emp_id\",\"year_joined\",\n",
    "       \"emp_dept_id\",\"gender\",\"salary\"])\n",
    "deptDF = spark.createDataFrame(data=emp_new, schema = emp_newColumns)\n",
    "# deptDF.printSchema()\n",
    "print('emp_new')\n",
    "deptDF.show(truncate=False)"
   ]
  },
  {
   "cell_type": "code",
   "execution_count": 3,
   "id": "24185688-bb18-4813-9b18-c113d7599e42",
   "metadata": {},
   "outputs": [
    {
     "name": "stdout",
     "output_type": "stream",
     "text": [
      "+------+-----+---------------+-----------+-----------+------+------+\n",
      "|emp_id|name |superior_emp_id|year_joined|emp_dept_id|gender|salary|\n",
      "+------+-----+---------------+-----------+-----------+------+------+\n",
      "|5     |Brown|2              |2010       |40         |      |5000  |\n",
      "|6     |Brown|2              |2010       |50         |      |3500  |\n",
      "+------+-----+---------------+-----------+-----------+------+------+\n",
      "\n"
     ]
    }
   ],
   "source": [
    "# SELECIONAR DADOS NOVOS\n",
    "newData = (deptDF.join(empDF\n",
    "            ,((empDF.emp_id == deptDF.emp_id) &\n",
    "                (empDF.name == deptDF.name) &\n",
    "                (empDF.superior_emp_id == deptDF.superior_emp_id) &\n",
    "                (empDF.year_joined == deptDF.year_joined) &\n",
    "                (empDF.emp_dept_id == deptDF.emp_dept_id) &\n",
    "                (empDF.gender == deptDF.gender) &\n",
    "                (empDF.salary == deptDF.salary))\n",
    "            ,\"leftanti\"))\n",
    "newData.show(truncate=False)"
   ]
  },
  {
   "cell_type": "code",
   "execution_count": 4,
   "id": "95bf9951-23fd-4d88-bab4-39b6ab0f7b3d",
   "metadata": {},
   "outputs": [
    {
     "data": {
      "text/plain": [
       "4"
      ]
     },
     "execution_count": 4,
     "metadata": {},
     "output_type": "execute_result"
    }
   ],
   "source": [
    "# ENCONTRAR ULTIMA SURROGATE KEY\n",
    "maxSK = empDF.selectExpr(\"max(surrogate_key) as max_key\").collect()[0][\"max_key\"]\n",
    "maxSK"
   ]
  },
  {
   "cell_type": "code",
   "execution_count": 14,
   "id": "aa157437-ab1b-4d1c-9dd3-96c191456df0",
   "metadata": {},
   "outputs": [
    {
     "name": "stderr",
     "output_type": "stream",
     "text": [
      "24/06/08 08:45:54 WARN WindowExec: No Partition Defined for Window operation! Moving all data to a single partition, this can cause serious performance degradation.\n",
      "24/06/08 08:45:54 WARN WindowExec: No Partition Defined for Window operation! Moving all data to a single partition, this can cause serious performance degradation.\n",
      "24/06/08 08:45:54 WARN WindowExec: No Partition Defined for Window operation! Moving all data to a single partition, this can cause serious performance degradation.\n"
     ]
    },
    {
     "name": "stdout",
     "output_type": "stream",
     "text": [
      "+------+-----+---------------+-----------+-----------+------+------+-------------+\n",
      "|emp_id| name|superior_emp_id|year_joined|emp_dept_id|gender|salary|surrogate_key|\n",
      "+------+-----+---------------+-----------+-----------+------+------+-------------+\n",
      "|     5|Brown|              2|       2010|         40|      |  5000|            5|\n",
      "|     6|Brown|              2|       2010|         50|      |  3500|            6|\n",
      "+------+-----+---------------+-----------+-----------+------+------+-------------+\n",
      "\n"
     ]
    },
    {
     "name": "stderr",
     "output_type": "stream",
     "text": [
      "24/06/08 08:45:55 WARN WindowExec: No Partition Defined for Window operation! Moving all data to a single partition, this can cause serious performance degradation.\n",
      "24/06/08 08:45:55 WARN WindowExec: No Partition Defined for Window operation! Moving all data to a single partition, this can cause serious performance degradation.\n",
      "24/06/08 08:45:55 WARN WindowExec: No Partition Defined for Window operation! Moving all data to a single partition, this can cause serious performance degradation.\n",
      "24/06/08 08:45:55 WARN WindowExec: No Partition Defined for Window operation! Moving all data to a single partition, this can cause serious performance degradation.\n",
      "24/06/08 08:45:55 WARN WindowExec: No Partition Defined for Window operation! Moving all data to a single partition, this can cause serious performance degradation.\n"
     ]
    }
   ],
   "source": [
    "# ADICIONAR SK AO NOVO DF\n",
    "windowSpec = Window.orderBy(\"emp_id\")\n",
    "\n",
    "deptDF_SK = (newData.withColumn(\"surrogate_key\", maxSK + row_number().over(windowSpec)))\n",
    "deptDF_SK.show()"
   ]
  },
  {
   "cell_type": "code",
   "execution_count": 16,
   "id": "049f205c-5e4c-40e3-979c-99f30668786c",
   "metadata": {},
   "outputs": [
    {
     "name": "stderr",
     "output_type": "stream",
     "text": [
      "24/06/08 08:46:07 WARN WindowExec: No Partition Defined for Window operation! Moving all data to a single partition, this can cause serious performance degradation.\n",
      "24/06/08 08:46:07 WARN WindowExec: No Partition Defined for Window operation! Moving all data to a single partition, this can cause serious performance degradation.\n",
      "24/06/08 08:46:07 WARN WindowExec: No Partition Defined for Window operation! Moving all data to a single partition, this can cause serious performance degradation.\n",
      "24/06/08 08:46:08 WARN WindowExec: No Partition Defined for Window operation! Moving all data to a single partition, this can cause serious performance degradation.\n",
      "24/06/08 08:46:08 WARN WindowExec: No Partition Defined for Window operation! Moving all data to a single partition, this can cause serious performance degradation.\n",
      "24/06/08 08:46:08 WARN WindowExec: No Partition Defined for Window operation! Moving all data to a single partition, this can cause serious performance degradation.\n",
      "24/06/08 08:46:08 WARN WindowExec: No Partition Defined for Window operation! Moving all data to a single partition, this can cause serious performance degradation.\n",
      "24/06/08 08:46:08 WARN WindowExec: No Partition Defined for Window operation! Moving all data to a single partition, this can cause serious performance degradation.\n"
     ]
    },
    {
     "name": "stdout",
     "output_type": "stream",
     "text": [
      "+-------------+------+--------+---------------+-----------+-----------+------+------+\n",
      "|surrogate_key|emp_id|    name|superior_emp_id|year_joined|emp_dept_id|gender|salary|\n",
      "+-------------+------+--------+---------------+-----------+-----------+------+------+\n",
      "|            1|     1|   Smith|             -1|       2018|         10|     M|  3000|\n",
      "|            2|     2|    Rose|              1|       2010|         20|     M|  4000|\n",
      "|            3|     3|Williams|              1|       2010|         10|     M|  1000|\n",
      "|            4|     4|   Jones|              2|       2005|         10|     F|  2000|\n",
      "|            5|     5|   Brown|              2|       2010|         40|      |  5000|\n",
      "|            6|     6|   Brown|              2|       2010|         50|      |  3500|\n",
      "+-------------+------+--------+---------------+-----------+-----------+------+------+\n",
      "\n"
     ]
    }
   ],
   "source": [
    "# FINAL DO PROCESSO\n",
    "finalDF = empDF.unionByName(deptDF_SK)\n",
    "finalDF.show()"
   ]
  },
  {
   "cell_type": "code",
   "execution_count": null,
   "id": "e0eae9fa-fde8-4b6c-92da-c0f5128e40dd",
   "metadata": {},
   "outputs": [],
   "source": []
  },
  {
   "cell_type": "code",
   "execution_count": null,
   "id": "8ed1596b-543c-4ed7-b172-6a1b00aa2816",
   "metadata": {},
   "outputs": [],
   "source": []
  }
 ],
 "metadata": {
  "kernelspec": {
   "display_name": "Python 3 (ipykernel)",
   "language": "python",
   "name": "python3"
  },
  "language_info": {
   "codemirror_mode": {
    "name": "ipython",
    "version": 3
   },
   "file_extension": ".py",
   "mimetype": "text/x-python",
   "name": "python",
   "nbconvert_exporter": "python",
   "pygments_lexer": "ipython3",
   "version": "3.10.12"
  }
 },
 "nbformat": 4,
 "nbformat_minor": 5
}
