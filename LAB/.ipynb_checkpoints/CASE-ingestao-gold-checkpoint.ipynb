{
 "cells": [
  {
   "cell_type": "code",
   "execution_count": 1,
   "id": "dc65ddee-7a84-4c89-a4c2-911387d270d2",
   "metadata": {},
   "outputs": [],
   "source": [
    "import findspark, datetime, pytz\n",
    "from pyspark.sql import SparkSession\n",
    "from pyspark.sql.window import Window\n",
    "from pyspark.sql.functions import lit,unix_timestamp,current_date,row_number,substring,concat,col,aes_encrypt,aes_decrypt,base64,unbase64\n",
    "\n",
    "findspark.add_packages('mysql:mysql-connector-java:8.0.11')"
   ]
  },
  {
   "cell_type": "code",
   "execution_count": 2,
   "id": "6df868a9-75b0-4765-983f-7716e55503ec",
   "metadata": {},
   "outputs": [],
   "source": [
    "agora = datetime.datetime.now(pytz.timezone('America/Sao_paulo'))\n",
    "weekday = ['seg','ter','qua','qui','sex','sab','dom'][agora.weekday()]\n",
    "chave_crypt = 'minhachavede128b'\n",
    "strBronzePath = f'./LAKE/BRONZE/loja_simulada-vendas'\n",
    "strSilverPath = f'./LAKE/SILVER/loja_simulada-vendas'\n",
    "tabelas = ['clientes','itens_venda','produtos','vendas','vendedores']"
   ]
  },
  {
   "cell_type": "code",
   "execution_count": 3,
   "id": "f549c76c-0d14-4d8a-a7cf-63c1e8b1d592",
   "metadata": {
    "scrolled": true
   },
   "outputs": [
    {
     "name": "stderr",
     "output_type": "stream",
     "text": [
      "Warning: Ignoring non-Spark config property: packages\n",
      "24/06/08 11:51:50 WARN Utils: Your hostname, cj resolves to a loopback address: 127.0.1.1; using 192.168.15.34 instead (on interface enp2s0)\n",
      "24/06/08 11:51:50 WARN Utils: Set SPARK_LOCAL_IP if you need to bind to another address\n"
     ]
    },
    {
     "name": "stdout",
     "output_type": "stream",
     "text": [
      ":: loading settings :: url = jar:file:/opt/spark/jars/ivy-2.5.1.jar!/org/apache/ivy/core/settings/ivysettings.xml\n"
     ]
    },
    {
     "name": "stderr",
     "output_type": "stream",
     "text": [
      "Ivy Default Cache set to: /home/cj/.ivy2/cache\n",
      "The jars for the packages stored in: /home/cj/.ivy2/jars\n",
      "mysql#mysql-connector-java added as a dependency\n",
      ":: resolving dependencies :: org.apache.spark#spark-submit-parent-19b8e50e-4224-49b2-93dd-d7a2302c3711;1.0\n",
      "\tconfs: [default]\n",
      "\tfound mysql#mysql-connector-java;8.0.11 in central\n",
      "\tfound com.google.protobuf#protobuf-java;2.6.0 in central\n",
      ":: resolution report :: resolve 145ms :: artifacts dl 10ms\n",
      "\t:: modules in use:\n",
      "\tcom.google.protobuf#protobuf-java;2.6.0 from central in [default]\n",
      "\tmysql#mysql-connector-java;8.0.11 from central in [default]\n",
      "\t---------------------------------------------------------------------\n",
      "\t|                  |            modules            ||   artifacts   |\n",
      "\t|       conf       | number| search|dwnlded|evicted|| number|dwnlded|\n",
      "\t---------------------------------------------------------------------\n",
      "\t|      default     |   2   |   0   |   0   |   0   ||   2   |   0   |\n",
      "\t---------------------------------------------------------------------\n",
      ":: retrieving :: org.apache.spark#spark-submit-parent-19b8e50e-4224-49b2-93dd-d7a2302c3711\n",
      "\tconfs: [default]\n",
      "\t0 artifacts copied, 2 already retrieved (0kB/6ms)\n",
      "24/06/08 11:51:51 WARN NativeCodeLoader: Unable to load native-hadoop library for your platform... using builtin-java classes where applicable\n",
      "Setting default log level to \"WARN\".\n",
      "To adjust logging level use sc.setLogLevel(newLevel). For SparkR, use setLogLevel(newLevel).\n"
     ]
    }
   ],
   "source": [
    "# Create SparkSession\n",
    "spark = (SparkSession.builder\n",
    "           .appName('IngestaoSilver')\n",
    "           .config(\"packages\", \"org.apache.spark:mysql-connector-java-8.0.13.jar\")\n",
    "           .getOrCreate()\n",
    "        )"
   ]
  },
  {
   "cell_type": "code",
   "execution_count": 4,
   "id": "a24ebfa5-8dbe-4b5b-8e3f-0f446ebb3b9f",
   "metadata": {},
   "outputs": [],
   "source": [
    "def pegarSilverAtual(tabela):\n",
    "    try:\n",
    "        tempDF = spark.read.parquet(f'{strSilverPath}-{tabela}-{weekday}')\n",
    "        print(f'Base {tabela} encontrada')\n",
    "        return tempDF\n",
    "    except Exception as e:\n",
    "        print(f'Base {tabela} não encontrada\\n', e)\n",
    "        return None"
   ]
  },
  {
   "cell_type": "code",
   "execution_count": 5,
   "id": "249a392c-79bb-4a59-89e7-3aa7182fabb0",
   "metadata": {},
   "outputs": [],
   "source": [
    "# ********************************************************************************************************************"
   ]
  },
  {
   "cell_type": "code",
   "execution_count": 10,
   "id": "c5d8bec8-aefb-4d7e-8055-2944e333a262",
   "metadata": {},
   "outputs": [],
   "source": [
    "# TABELA CLIENTES\n",
    "def clientes():\n",
    "    print('Iniciando ingestão base \"clientes\"')\n",
    "\n",
    "# *************************************\n",
    "    # PEGAR TABELA PARA DAR APPEND -> NÃO VALE A PENA NEATA ETAPA ( BRONZE PARA SILVER) POINS EM SILVER OS DADOS JÁ ESTÃO ANONIMIZADOS    \n",
    "# *************************************\n",
    "    \n",
    "    silverAtual = pegarSilverAtual('clientes')\n",
    "    # TODO TRATATIVA NÃO EXISTE BRONZE **************************************************************\n",
    "    clientes_bronze_df = spark.read.parquet(f'{strBronzePath}-clientes-{weekday}')\n",
    "    # TODO TRATATIVA NÃO EXISTE BRONZE **************************************************************\n",
    "    if silverAtual == None:\n",
    "        windowSpec = Window.orderBy(\"id_cliente\")\n",
    "        clientes_silver_df = (clientes_bronze_df\n",
    "            .withColumn(\"surrogate_key\", row_number().over(windowSpec))\n",
    "            .select('surrogate_key', 'id_cliente'\n",
    "                # mantendo apenas os dígitos menos significativos do CPF\n",
    "                , concat(lit('***'), substring('cpf', 4, 6), lit('**-**')).alias('cpf')\n",
    "                # criptografia no nome do cliente\n",
    "                , base64(aes_encrypt('cliente', lit(chave_crypt), lit('ECB'), lit('PKCS'))).alias('cliente')\n",
    "                # , 'telefone', 'email'     # dados omitidos para a camada de destino em questão\n",
    "                , 'estado', 'origem_racial', 'sexo', 'status', col('data_carga').alias('data_ref'))\n",
    "            .withColumn(\"data_carga\", lit(agora.strftime(\"%Y-%m-%d\")).cast('date'))\n",
    "        )\n",
    "        clientes_silver_df.show(1)\n",
    "        return clientes_silver_df\n",
    "    else:\n",
    "        print('apenasNovos')\n",
    "        clientes_bronze_df.show(1)\n",
    "        silverAtual.show(1)\n",
    "        return\n",
    "        # SELECIONAR DADOS NOVOS\n",
    "        apenasNovosDF = (clientes_bronze_df.join(silverAtual          \n",
    "            ,((silverAtual.origem_racial == clientes_bronze_df.origem_racial),\n",
    "                (silverAtual.id_cliente == clientes_bronze_df.id_cliente),\n",
    "                # (silverAtual.data_carga == clientes_bronze_df.data_carga),\n",
    "                # (silverAtual.data_ref == clientes_bronze_df.data_ref),\n",
    "                (silverAtual.cliente == clientes_bronze_df.cliente),\n",
    "                (silverAtual.estado == clientes_bronze_df.estado),\n",
    "                (silverAtual.status == clientes_bronze_df.status),\n",
    "                (silverAtual.sexo == clientes_bronze_df.sexo),\n",
    "                (silverAtual.cpf == clientes_bronze_df.cpf))\n",
    "            ,\"leftanti\"))\n",
    "        print('apenasNovos')\n",
    "        apenasNovosDF.show(truncate=False)\n",
    "        return apenasNovosDF\n",
    "        # ENCONTRAR ULTIMA SURROGATE KEY\n",
    "        maxSK = silverAtual.selectExpr(\"max(surrogate_key) as max_key\").collect()[0][\"max_key\"]\n",
    "        maxSK.show()\n",
    "\n",
    "        # ADICIONAR SK AO NOVO DF\n",
    "        windowSpec = Window.orderBy(\"emp_id\")        \n",
    "        deptDF_SK = (newData.withColumn(\"surrogate_key\", maxSK + row_number().over(windowSpec)))\n",
    "        deptDF_SK.show()\n",
    "\n",
    "        # FINAL DO PROCESSO\n",
    "        finalDF = empDF.unionByName(deptDF_SK)\n",
    "        finalDF.show()\n",
    "        return clientes_bronze_df"
   ]
  },
  {
   "cell_type": "code",
   "execution_count": 11,
   "id": "d40e1f0b-2e27-478b-ab67-158968236eae",
   "metadata": {},
   "outputs": [
    {
     "name": "stdout",
     "output_type": "stream",
     "text": [
      "Iniciando ingestão base \"clientes\"\n",
      "Base clientes encontrada\n",
      "apenasNovos\n",
      "+----------+--------------+---------------+--------------------+--------------------+------+-------------+----+------+----------+\n",
      "|id_cliente|           cpf|       telefone|               email|             cliente|estado|origem_racial|sexo|status|data_carga|\n",
      "+----------+--------------+---------------+--------------------+--------------------+------+-------------+----+------+----------+\n",
      "|       251|802.404.251-70|(82) 96797-3891|adelina.buenavent...|Adelina Buenaventura|    RJ|        preta|   M|Silver|2024-06-08|\n",
      "+----------+--------------+---------------+--------------------+--------------------+------+-------------+----+------+----------+\n",
      "only showing top 1 row\n",
      "\n",
      "+-------------+----------+--------------+--------------------+------+-------------+----+------+----------+----------+\n",
      "|surrogate_key|id_cliente|           cpf|             cliente|estado|origem_racial|sexo|status|  data_ref|data_carga|\n",
      "+-------------+----------+--------------+--------------------+------+-------------+----+------+----------+----------+\n",
      "|            1|       251|***.404.2**-**|lap4vJRUjeRE9x37g...|    RJ|        preta|   M|Silver|2024-06-08|2024-06-08|\n",
      "+-------------+----------+--------------+--------------------+------+-------------+----+------+----------+----------+\n",
      "only showing top 1 row\n",
      "\n"
     ]
    }
   ],
   "source": [
    "clientes = clientes()"
   ]
  },
  {
   "cell_type": "code",
   "execution_count": null,
   "id": "6d893f5b-8bc6-4ee4-a41c-7dd33abd48b3",
   "metadata": {},
   "outputs": [],
   "source": [
    "salvarDadosDoDF(clientes, f'{strSilverPath}-clientes-{weekday}')"
   ]
  },
  {
   "cell_type": "markdown",
   "id": "b7facedb-75cc-41e7-b981-65746170a348",
   "metadata": {},
   "source": [
    "# **********************************************************************************************************************"
   ]
  },
  {
   "cell_type": "code",
   "execution_count": null,
   "id": "03ecc928-c3f9-4377-bf54-ea267ee9f319",
   "metadata": {},
   "outputs": [],
   "source": []
  },
  {
   "cell_type": "code",
   "execution_count": null,
   "id": "d49bbb67-f396-4eb5-a1e8-210cba08c28d",
   "metadata": {},
   "outputs": [],
   "source": []
  },
  {
   "cell_type": "code",
   "execution_count": null,
   "id": "6ed2fb0d-11c7-43ed-8a4a-3444efeae611",
   "metadata": {},
   "outputs": [],
   "source": []
  },
  {
   "cell_type": "code",
   "execution_count": null,
   "id": "c5e3079c-e352-4ef3-9dae-43826ea57c2f",
   "metadata": {},
   "outputs": [],
   "source": []
  },
  {
   "cell_type": "code",
   "execution_count": null,
   "id": "234ca381-34fc-4572-8c1e-589e961381be",
   "metadata": {},
   "outputs": [],
   "source": [
    "# # TESTE DESCRIPTOGRAFIA\n",
    "# clientes_silver_df_decript = (clientes_silver_df\n",
    "#     .select(aes_decrypt(unbase64('cliente'),lit(chave_crypt),lit('ECB'),lit('PKCS')).cast('string').alias('descriptado'))\n",
    "# )\n",
    "# clientes_silver_df_decript.show(2)"
   ]
  },
  {
   "cell_type": "code",
   "execution_count": null,
   "id": "08459273-684e-4842-bedb-b1c13104d1a5",
   "metadata": {},
   "outputs": [],
   "source": [
    "# TABELA VENDEDORES\n",
    "def vendedores():\n",
    "    last_SK = pegarSilverMaxSurrogateKey(f'{strSilverPath}-vendedores-{weekday}')\n",
    "    vendedores_bronze_df = spark.read.parquet(f'{strBronzePath}-vendedores-{weekday}') \n",
    "    windowSpec = Window.orderBy(\"id_vendedor\")\n",
    "    vendedores_silver_df = (vendedores_bronze_df\n",
    "        .withColumn(\"surrogate_key\", row_number().over(windowSpec))\n",
    "        .select('surrogate_key', 'id_vendedor'\n",
    "            # mantendo apenas os dígitos menos significativos do CPF\n",
    "            , concat(lit('***'), substring('cpf', 4, 6), lit('**-**')).alias('cpf')\n",
    "            # criptografia no nome do vendedor\n",
    "            , base64(aes_encrypt('nome', lit(chave_crypt), lit('ECB'), lit('PKCS'))).alias('nome')\n",
    "            # ,'telefone','email'     # dados omitidos para a camada de destino em questão\n",
    "            , col('data_carga').alias('data_ref'))\n",
    "        .withColumn(\"data_carga\", lit(agora.strftime(\"%Y-%m-%d\")).cast('date'))\n",
    "    )\n",
    "    vendedores_silver_df.show(1)\n",
    "    return vendedores_silver_df"
   ]
  },
  {
   "cell_type": "code",
   "execution_count": null,
   "id": "ee29207a-8b31-42ec-a7d5-bfe7c5d699ba",
   "metadata": {},
   "outputs": [],
   "source": [
    "# TABELA PRODUTOS\n",
    "def produtos():\n",
    "    last_SK = pegarSilverMaxSurrogateKey(f'{strSilverPath}-produtos-{weekday}')\n",
    "    produtos_bronze_df = spark.read.parquet(f'{strBronzePath}-produtos-{weekday}')    \n",
    "    windowSpec = Window.orderBy(\"id_produto\")\n",
    "    produtos_silver_df = (produtos_bronze_df\n",
    "        .withColumn(\"surrogate_key\", row_number().over(windowSpec))\n",
    "        .select('surrogate_key', 'id_produto','produto','preco','data_carga'\n",
    "                , col('data_carga').alias('data_ref'))\n",
    "        .withColumn(\"data_carga\", lit(agora.strftime(\"%Y-%m-%d\")).cast('date'))\n",
    "    )\n",
    "    produtos_silver_df.show(1)\n",
    "    return produtos_silver_df"
   ]
  },
  {
   "cell_type": "code",
   "execution_count": null,
   "id": "d7085ab3-f0e7-4b6c-a440-d340d4088786",
   "metadata": {},
   "outputs": [],
   "source": [
    "# TABELA VENDAS\n",
    "def vendas():\n",
    "    last_SK = pegarSilverMaxSurrogateKey(f'{strSilverPath}-vendas-{weekday}')\n",
    "    vendas_bronze_df = spark.read.parquet(f'{strBronzePath}-vendas-{weekday}')\n",
    "    windowSpec = Window.orderBy(\"id_venda\")\n",
    "    vendas_silver_df = (vendas_bronze_df\n",
    "        .withColumn(\"surrogate_key\", row_number().over(windowSpec))\n",
    "        .select('surrogate_key', 'id_venda','id_vendedor','id_cliente', 'total',col('data').alias('data_venda')\n",
    "                , col('data_carga').alias('data_ref'))\n",
    "        .withColumn(\"data_carga\", lit(agora.strftime(\"%Y-%m-%d\")).cast('date'))\n",
    "    )\n",
    "    vendas_silver_df.show(1)\n",
    "    return vendas_silver_df"
   ]
  },
  {
   "cell_type": "code",
   "execution_count": null,
   "id": "3efb581d-d9bd-44cf-a4ea-7187fa1fb8c4",
   "metadata": {},
   "outputs": [],
   "source": [
    "# TABELA ITENS VENDAS\n",
    "def itensVendas():\n",
    "    last_SK = pegarSilverMaxSurrogateKey(f'{strSilverPath}-itens_venda-{weekday}')\n",
    "    itens_venda_bronze_df = spark.read.parquet(f'{strBronzePath}-itens_venda-{weekday}')    \n",
    "    windowSpec = Window.orderBy('id_produto', \"id_venda\")\n",
    "    itens_venda_silver_df = (itens_venda_bronze_df\n",
    "        .withColumn(\"surrogate_key\", row_number().over(windowSpec))\n",
    "        .select('surrogate_key', 'id_produto','id_venda','quantidade','valor_unitario','valor_total','desconto'\n",
    "                , col('data_carga').alias('data_ref'))\n",
    "        .withColumn(\"data_carga\", lit(agora.strftime(\"%Y-%m-%d\")).cast('date'))\n",
    "    )\n",
    "    itens_venda_silver_df.show(1)\n",
    "    return itens_venda_silver_df"
   ]
  },
  {
   "cell_type": "code",
   "execution_count": null,
   "id": "3fc69043-c1b4-4f18-a30a-1b179bb103cb",
   "metadata": {},
   "outputs": [],
   "source": [
    "# ***************************************************************************************************************"
   ]
  },
  {
   "cell_type": "code",
   "execution_count": null,
   "id": "e38560be-104a-4ba4-9cfd-9e83492b7308",
   "metadata": {},
   "outputs": [],
   "source": [
    "def salvarDadosDoDF(df,pathFile):\n",
    "    return df.write.mode(\"overwrite\").parquet(pathFile)"
   ]
  },
  {
   "cell_type": "code",
   "execution_count": null,
   "id": "afcb7643-76ef-4e54-af04-a7a6fd42f491",
   "metadata": {},
   "outputs": [],
   "source": [
    "def executar():\n",
    "    salvarDadosDoDF(clientes(), f'{strSilverPath}-clientes-{weekday}')\n",
    "    salvarDadosDoDF(vendedores(), f'{strSilverPath}-vendedores-{weekday}')\n",
    "    salvarDadosDoDF(produtos(), f'{strSilverPath}-produtos-{weekday}')\n",
    "    salvarDadosDoDF(vendas(), f'{strSilverPath}-vendas-{weekday}')\n",
    "    salvarDadosDoDF(itensVendas(), f'{strSilverPath}-itensVendas-{weekday}')    \n",
    "    return"
   ]
  },
  {
   "cell_type": "code",
   "execution_count": null,
   "id": "311620c8-471b-4abb-8b9b-aa7472eea0dc",
   "metadata": {},
   "outputs": [],
   "source": [
    "def enviarAlerta(alerta, mensagem='Sucesso'):\n",
    "    print(F'Encaminhando alerta de {alerta}')\n",
    "    print(f'Alerta de {alerta}: {type(mensagem)}', mensagem)\n",
    "    return"
   ]
  },
  {
   "cell_type": "code",
   "execution_count": null,
   "id": "1d401a0b-2f29-4edb-bd1f-ba8e65b6d995",
   "metadata": {},
   "outputs": [],
   "source": [
    "def main():\n",
    "    try:\n",
    "        print('Ingestão para base SILVER iniciada...')\n",
    "        executar()\n",
    "        print('Ingestão para base SILVER concluída com SUCESSO!!!')\n",
    "        enviarAlerta('Sucesso')\n",
    "    except Exception as e:\n",
    "        print('Erro na ingestão para base SILVER')\n",
    "        enviarAlerta('Erro', e)\n",
    "    finally:\n",
    "        spark.stop()\n",
    "        print('conexão spark finalizada!')"
   ]
  },
  {
   "cell_type": "code",
   "execution_count": null,
   "id": "d66e19b9-1ad4-412c-a3fd-95a42d8ea64d",
   "metadata": {},
   "outputs": [],
   "source": [
    "main()"
   ]
  },
  {
   "cell_type": "code",
   "execution_count": null,
   "id": "997304d2-75ac-4ffc-83f8-5f8f497dbe2f",
   "metadata": {},
   "outputs": [],
   "source": []
  }
 ],
 "metadata": {
  "kernelspec": {
   "display_name": "Python 3 (ipykernel)",
   "language": "python",
   "name": "python3"
  },
  "language_info": {
   "codemirror_mode": {
    "name": "ipython",
    "version": 3
   },
   "file_extension": ".py",
   "mimetype": "text/x-python",
   "name": "python",
   "nbconvert_exporter": "python",
   "pygments_lexer": "ipython3",
   "version": "3.10.12"
  }
 },
 "nbformat": 4,
 "nbformat_minor": 5
}
